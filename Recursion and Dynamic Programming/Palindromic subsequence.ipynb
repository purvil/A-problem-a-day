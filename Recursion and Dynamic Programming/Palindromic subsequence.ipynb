{
 "cells": [
  {
   "cell_type": "markdown",
   "metadata": {},
   "source": [
    "* Given a sequence, find the length of its Longest Palindromic Subsequence (LPS)\n",
    "* A subsequence is a sequence that can be derived from another sequence by deleting some or no elements without changing the order of the remaining elements."
   ]
  },
  {
   "cell_type": "markdown",
   "metadata": {},
   "source": [
    "* A basic brute-force solution could be to try all the subsequences of the given sequence. We can start processing from the beginning and the end of the sequence. So at any step, we have two options:\n",
    "\n",
    "If the element at the beginning and the end are the same, we increment our count by two and make a recursive call for the remaining sequence.\n",
    "We will skip the element either from the beginning or the end to make two recursive calls for the remaining subsequence.\n",
    "If option one applies then it will give us the length of LPS; otherwise, the length of LPS will be the maximum number returned by the two recurse calls from the second option."
   ]
  },
  {
   "cell_type": "markdown",
   "metadata": {},
   "source": [
    "![](images/Palindromic_substring.PNG)"
   ]
  },
  {
   "cell_type": "code",
   "execution_count": 12,
   "metadata": {},
   "outputs": [],
   "source": [
    "def palindromicSubString(s):\n",
    "    if not s:\n",
    "        return 0\n",
    "    return palindromicSubStringRec(s, 0, len(s) - 1)\n",
    "    \n",
    "def palindromicSubStringRec(s, start, end):\n",
    "    if start > end:\n",
    "        return 0\n",
    "    \n",
    "    if start == end:\n",
    "        return 1\n",
    "    \n",
    "    # case 1: element of both start and end are equal\n",
    "    if s[start] == s[end]:\n",
    "        return 2 + palindromicSubStringRec(s, start + 1, end - 1)\n",
    "        \n",
    "    # case 2: skip one element from both side and try to find palindrom\n",
    "    return max(palindromicSubStringRec(s, start,end-1), palindromicSubStringRec(s, start+1,end))"
   ]
  },
  {
   "cell_type": "code",
   "execution_count": 13,
   "metadata": {},
   "outputs": [
    {
     "data": {
      "text/plain": [
       "5"
      ]
     },
     "execution_count": 13,
     "metadata": {},
     "output_type": "execute_result"
    }
   ],
   "source": [
    "palindromicSubString(\"abdbca\")"
   ]
  },
  {
   "cell_type": "code",
   "execution_count": 14,
   "metadata": {},
   "outputs": [
    {
     "data": {
      "text/plain": [
       "3"
      ]
     },
     "execution_count": 14,
     "metadata": {},
     "output_type": "execute_result"
    }
   ],
   "source": [
    "palindromicSubString(\"cddpd\")"
   ]
  },
  {
   "cell_type": "code",
   "execution_count": 15,
   "metadata": {},
   "outputs": [
    {
     "data": {
      "text/plain": [
       "1"
      ]
     },
     "execution_count": 15,
     "metadata": {},
     "output_type": "execute_result"
    }
   ],
   "source": [
    "palindromicSubString(\"pqr\")"
   ]
  },
  {
   "cell_type": "markdown",
   "metadata": {},
   "source": [
    "#### Top Down"
   ]
  },
  {
   "cell_type": "code",
   "execution_count": 32,
   "metadata": {},
   "outputs": [],
   "source": [
    "def palindromicSubStrTopDown(s):\n",
    "    if not s:\n",
    "        return 0\n",
    "    n = len(s)\n",
    "    dp = [[-1 for i in range(n)] for j in range(n)]\n",
    "    \n",
    "    return palindromicSubStrTopDownRec(s, 0, n-1, dp)\n",
    "\n",
    "def palindromicSubStrTopDownRec(s, start, end, dp):\n",
    "    if start > end:\n",
    "        return 0\n",
    "    if start == end:\n",
    "        return 1\n",
    "    if dp[start][end] == -1:\n",
    "        if s[start] == s[end]:\n",
    "            dp[start][end] = 2 + palindromicSubStrTopDownRec(s, start + 1, end - 1, dp)\n",
    "        else:\n",
    "            dp[start][end] = max(palindromicSubStrTopDownRec(s, start + 1, end, dp), palindromicSubStrTopDownRec(s, start, end - 1, dp))\n",
    "        \n",
    "    return dp[start][end]"
   ]
  },
  {
   "cell_type": "code",
   "execution_count": 33,
   "metadata": {},
   "outputs": [
    {
     "data": {
      "text/plain": [
       "5"
      ]
     },
     "execution_count": 33,
     "metadata": {},
     "output_type": "execute_result"
    }
   ],
   "source": [
    "palindromicSubStrTopDown(\"abdbca\")"
   ]
  },
  {
   "cell_type": "code",
   "execution_count": 34,
   "metadata": {},
   "outputs": [
    {
     "data": {
      "text/plain": [
       "3"
      ]
     },
     "execution_count": 34,
     "metadata": {},
     "output_type": "execute_result"
    }
   ],
   "source": [
    "palindromicSubStrTopDown(\"cddpd\")"
   ]
  },
  {
   "cell_type": "code",
   "execution_count": 35,
   "metadata": {},
   "outputs": [
    {
     "data": {
      "text/plain": [
       "1"
      ]
     },
     "execution_count": 35,
     "metadata": {},
     "output_type": "execute_result"
    }
   ],
   "source": [
    "palindromicSubStrTopDown(\"pqr\")"
   ]
  },
  {
   "cell_type": "markdown",
   "metadata": {},
   "source": [
    "O(N**2) Time and space Also extra O(N) for recursion"
   ]
  },
  {
   "cell_type": "markdown",
   "metadata": {},
   "source": [
    "#### Bottom up"
   ]
  },
  {
   "cell_type": "markdown",
   "metadata": {},
   "source": [
    "* If the element at the startIndex matches the element at the endIndex, the length of LPS would be two plus the length of LPS till startIndex+1 and endIndex-1.\n",
    "* If the element at the startIndex does not match the element at the endIndex, we will take the maximum LPS created by either skipping element at the startIndex or the endIndex."
   ]
  },
  {
   "cell_type": "markdown",
   "metadata": {},
   "source": [
    "![](images/Palindromic_substring1.PNG)"
   ]
  },
  {
   "cell_type": "code",
   "execution_count": 36,
   "metadata": {},
   "outputs": [],
   "source": [
    "def palindromSubStringBottomUp(s):\n",
    "    if not s:\n",
    "        return 0\n",
    "    n = len(s)\n",
    "    dp = [[0 for x in range(n)] for y in range(n)]\n",
    "    for i in range(n):\n",
    "        dp[i][i] = 1\n",
    "        \n",
    "    for start in range(n, -1,-1):\n",
    "        for end in range(start + 1, n):\n",
    "            if s[start] == s[end]:\n",
    "                dp[start][end] = 2 + dp[start+1][end-1]\n",
    "            else:\n",
    "                dp[start][end] = max(dp[start+1][end], dp[start][end-1])\n",
    "    return dp[0][n-1]"
   ]
  },
  {
   "cell_type": "code",
   "execution_count": 37,
   "metadata": {},
   "outputs": [
    {
     "data": {
      "text/plain": [
       "5"
      ]
     },
     "execution_count": 37,
     "metadata": {},
     "output_type": "execute_result"
    }
   ],
   "source": [
    "palindromSubStringBottomUp(\"abdbca\")"
   ]
  },
  {
   "cell_type": "code",
   "execution_count": 38,
   "metadata": {},
   "outputs": [
    {
     "data": {
      "text/plain": [
       "3"
      ]
     },
     "execution_count": 38,
     "metadata": {},
     "output_type": "execute_result"
    }
   ],
   "source": [
    "palindromSubStringBottomUp(\"cddpd\")"
   ]
  },
  {
   "cell_type": "code",
   "execution_count": 39,
   "metadata": {},
   "outputs": [
    {
     "data": {
      "text/plain": [
       "1"
      ]
     },
     "execution_count": 39,
     "metadata": {},
     "output_type": "execute_result"
    }
   ],
   "source": [
    "palindromSubStringBottomUp(\"pqr\")"
   ]
  },
  {
   "cell_type": "markdown",
   "metadata": {},
   "source": [
    "## Longest Palindromic Substring"
   ]
  },
  {
   "cell_type": "markdown",
   "metadata": {},
   "source": [
    "* Given a string, find the length of its Longest Palindromic Substring (LPS). In a palindromic string, elements read the same backward and forward."
   ]
  },
  {
   "cell_type": "code",
   "execution_count": 44,
   "metadata": {},
   "outputs": [],
   "source": [
    "def palinSubStr(s):\n",
    "    if not s:\n",
    "        return 0\n",
    "    n = len(s)\n",
    "    return palinSubStrRec(s, 0, n - 1)\n",
    "\n",
    "def palinSubStrRec(s, start, end):\n",
    "    if start > end:\n",
    "        return 0\n",
    "    if start == end:\n",
    "        return 1\n",
    "    if s[start] == s[end]:\n",
    "       # Check if elements in between also a palindrom?\n",
    "        remaining_el = end - start - 1\n",
    "        if remaining_el == palinSubStrRec(s, start + 1, end - 1):\n",
    "            return 2 + remaining_el\n",
    "    return max(palinSubStrRec(s, start+1, end), palinSubStrRec(s, start, end-1))"
   ]
  },
  {
   "cell_type": "code",
   "execution_count": 45,
   "metadata": {},
   "outputs": [
    {
     "data": {
      "text/plain": [
       "3"
      ]
     },
     "execution_count": 45,
     "metadata": {},
     "output_type": "execute_result"
    }
   ],
   "source": [
    "palinSubStr(\"abdbca\")"
   ]
  },
  {
   "cell_type": "code",
   "execution_count": 46,
   "metadata": {},
   "outputs": [
    {
     "data": {
      "text/plain": [
       "3"
      ]
     },
     "execution_count": 46,
     "metadata": {},
     "output_type": "execute_result"
    }
   ],
   "source": [
    "palinSubStr(\"cddpd\")"
   ]
  },
  {
   "cell_type": "code",
   "execution_count": 47,
   "metadata": {},
   "outputs": [
    {
     "data": {
      "text/plain": [
       "1"
      ]
     },
     "execution_count": 47,
     "metadata": {},
     "output_type": "execute_result"
    }
   ],
   "source": [
    "palinSubStr(\"pqr\")"
   ]
  },
  {
   "cell_type": "markdown",
   "metadata": {},
   "source": [
    "O(3^N)"
   ]
  },
  {
   "cell_type": "markdown",
   "metadata": {},
   "source": [
    "#### Top Down"
   ]
  },
  {
   "cell_type": "code",
   "execution_count": 48,
   "metadata": {},
   "outputs": [],
   "source": [
    "def palinSubStrTopDown(s):\n",
    "    if not s:\n",
    "        return 0\n",
    "    n = len(s)\n",
    "    dp = [[-1 for i in range(n)] for j in range(n)]\n",
    "    \n",
    "    return palinSubStrTopDownRec(s, 0, n-1, dp)\n",
    "\n",
    "def palinSubStrTopDownRec(s, start, end, dp):\n",
    "    if start > end:\n",
    "        return 0\n",
    "    if start == end:\n",
    "        return 1\n",
    "    if dp[start][end] == -1:\n",
    "        if s[start] == s[end]:\n",
    "            ret = palinSubStrTopDownRec(s, start+1, end-1, dp)\n",
    "            if ret == end - start - 1:\n",
    "                dp[start][end] = 2 + ret\n",
    "                return dp[start][end]\n",
    "        dp[start][end] = max(palinSubStrTopDownRec(s,start+1, end, dp), palinSubStrTopDownRec(s,start, end-1, dp))\n",
    "    return dp[start][end]\n",
    "\n"
   ]
  },
  {
   "cell_type": "code",
   "execution_count": 49,
   "metadata": {},
   "outputs": [
    {
     "data": {
      "text/plain": [
       "3"
      ]
     },
     "execution_count": 49,
     "metadata": {},
     "output_type": "execute_result"
    }
   ],
   "source": [
    "palinSubStrTopDown(\"abdbca\")"
   ]
  },
  {
   "cell_type": "code",
   "execution_count": 50,
   "metadata": {},
   "outputs": [
    {
     "data": {
      "text/plain": [
       "3"
      ]
     },
     "execution_count": 50,
     "metadata": {},
     "output_type": "execute_result"
    }
   ],
   "source": [
    "palinSubStrTopDown(\"cddpd\")"
   ]
  },
  {
   "cell_type": "code",
   "execution_count": 51,
   "metadata": {},
   "outputs": [
    {
     "data": {
      "text/plain": [
       "1"
      ]
     },
     "execution_count": 51,
     "metadata": {},
     "output_type": "execute_result"
    }
   ],
   "source": [
    "palinSubStrTopDown(\"pqr\")"
   ]
  },
  {
   "cell_type": "markdown",
   "metadata": {},
   "source": [
    "#### Bottom up"
   ]
  },
  {
   "cell_type": "code",
   "execution_count": null,
   "metadata": {},
   "outputs": [],
   "source": [
    "def "
   ]
  }
 ],
 "metadata": {
  "kernelspec": {
   "display_name": "Python 3",
   "language": "python",
   "name": "python3"
  },
  "language_info": {
   "codemirror_mode": {
    "name": "ipython",
    "version": 3
   },
   "file_extension": ".py",
   "mimetype": "text/x-python",
   "name": "python",
   "nbconvert_exporter": "python",
   "pygments_lexer": "ipython3",
   "version": "3.7.1"
  },
  "varInspector": {
   "cols": {
    "lenName": 16,
    "lenType": 16,
    "lenVar": 40
   },
   "kernels_config": {
    "python": {
     "delete_cmd_postfix": "",
     "delete_cmd_prefix": "del ",
     "library": "var_list.py",
     "varRefreshCmd": "print(var_dic_list())"
    },
    "r": {
     "delete_cmd_postfix": ") ",
     "delete_cmd_prefix": "rm(",
     "library": "var_list.r",
     "varRefreshCmd": "cat(var_dic_list()) "
    }
   },
   "types_to_exclude": [
    "module",
    "function",
    "builtin_function_or_method",
    "instance",
    "_Feature"
   ],
   "window_display": false
  }
 },
 "nbformat": 4,
 "nbformat_minor": 2
}
