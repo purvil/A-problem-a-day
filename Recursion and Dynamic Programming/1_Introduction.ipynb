{
 "cells": [
  {
   "cell_type": "markdown",
   "metadata": {},
   "source": [
    "* Recursive problems built off of subproblems.\n",
    "* Look for\n",
    "    - Design an algo to compute nth...\n",
    "    - Write code to list first n...\n",
    "    - Implement method to compute all...\n",
    "* Example : We will compute F(n) by adding, removing or changing solution of F(n-1). Or we solve problem on half of the data and then other half, at the end we combine them\n",
    "\n",
    "* Recursive code should have base case- a terminating scenario that does not use recursion to produce an answer.\n",
    "* Set of rules that reduces all the cases towards base case.\n",
    "\n",
    "### Bottom up approach:\n",
    "* We start by knowing how to solve simple case. Then figure out how to solve for 2 elements, then for 3 elements and so on.\n",
    "* Meaning building solution of current case from previous case\n",
    "* Tabulation : Filling up n-D table of all subproblems\n",
    "\n",
    "### Top-down approach\n",
    "* Divide problem in n sub problems\n",
    "* Be careful for overlap cases, use memoization (Storing result of already solved subproblem)\n",
    "* Solve bigger problem by recursively finding solution of subproblems, cache result of subproblem\n",
    "\n",
    "### Half and Half approach\n",
    "* Divide dataset in half\n",
    "* Binary search, merge sort"
   ]
  },
  {
   "cell_type": "markdown",
   "metadata": {},
   "source": [
    "### Recursive vs Iterative\n",
    "* Recursive can be space inefficient, each call adds a new layer to the stack, if algo recurse to depth of n it will take O(N) memory"
   ]
  },
  {
   "cell_type": "markdown",
   "metadata": {},
   "source": [
    "### Dynamic Problem\n",
    "* Recursive problem with overlapping subproblems. Cache those result for future.\n",
    "* Subproblem is smaller version of original problem"
   ]
  },
  {
   "cell_type": "markdown",
   "metadata": {},
   "source": [
    "### Memoization\n",
    "* Memoization is an optimization technique used primarily to speed up computer programs by storing the results of expensive function calls and returning the cached result when the same inputs occur again."
   ]
  },
  {
   "cell_type": "markdown",
   "metadata": {},
   "source": [
    "## Fibonacci number"
   ]
  },
  {
   "cell_type": "markdown",
   "metadata": {},
   "source": [
    "### Recursive brute force"
   ]
  },
  {
   "cell_type": "code",
   "execution_count": 16,
   "metadata": {},
   "outputs": [],
   "source": [
    "def fib_rec(n):\n",
    "    if n < 2:\n",
    "        return n\n",
    "    else:\n",
    "        return fib_rec(n - 1) + fib_rec(n - 2)"
   ]
  },
  {
   "cell_type": "code",
   "execution_count": 17,
   "metadata": {},
   "outputs": [
    {
     "data": {
      "text/plain": [
       "55"
      ]
     },
     "execution_count": 17,
     "metadata": {},
     "output_type": "execute_result"
    }
   ],
   "source": [
    "fib_rec(10)"
   ]
  },
  {
   "cell_type": "markdown",
   "metadata": {},
   "source": [
    "* Running time is $O(2^n)$. Each root has 2 children"
   ]
  },
  {
   "cell_type": "markdown",
   "metadata": {},
   "source": [
    "### Top Down with memoization"
   ]
  },
  {
   "cell_type": "code",
   "execution_count": 18,
   "metadata": {},
   "outputs": [],
   "source": [
    "def feb_top_down(n):\n",
    "    def fibonacci(n, memo):\n",
    "        if n < 2:\n",
    "            return n\n",
    "        elif memo[n] == -1:\n",
    "            memo[n] = fibonacci(n-1, memo) + fibonacci(n-2, memo)\n",
    "        return memo[n]\n",
    "        \n",
    "    memo = [-1] * (n + 1)\n",
    "    return fibonacci(n, memo)"
   ]
  },
  {
   "cell_type": "code",
   "execution_count": 19,
   "metadata": {},
   "outputs": [
    {
     "data": {
      "text/plain": [
       "55"
      ]
     },
     "execution_count": 19,
     "metadata": {},
     "output_type": "execute_result"
    }
   ],
   "source": [
    "feb_top_down(10)"
   ]
  },
  {
   "cell_type": "markdown",
   "metadata": {},
   "source": [
    "* O(n) space and O(n) memory"
   ]
  },
  {
   "cell_type": "markdown",
   "metadata": {},
   "source": [
    "### Bottom up"
   ]
  },
  {
   "cell_type": "code",
   "execution_count": 26,
   "metadata": {},
   "outputs": [],
   "source": [
    "def fib_bottom_up(n):\n",
    "    if n < 2:\n",
    "        return n\n",
    "    memo = [-1] * (n + 1)\n",
    "    memo[0] = 0\n",
    "    memo[1] = 1\n",
    "    for i in range(2, n + 1):\n",
    "        memo[i] = memo[i - 1] + memo[i - 2]\n",
    "    return memo[n]"
   ]
  },
  {
   "cell_type": "code",
   "execution_count": 27,
   "metadata": {},
   "outputs": [
    {
     "data": {
      "text/plain": [
       "55"
      ]
     },
     "execution_count": 27,
     "metadata": {},
     "output_type": "execute_result"
    }
   ],
   "source": [
    "fib_bottom_up(10)"
   ]
  },
  {
   "cell_type": "markdown",
   "metadata": {},
   "source": [
    "* O(n) space and O(n) memory"
   ]
  },
  {
   "cell_type": "markdown",
   "metadata": {},
   "source": [
    "### More effective"
   ]
  },
  {
   "cell_type": "code",
   "execution_count": 28,
   "metadata": {},
   "outputs": [],
   "source": [
    "def fib_best(n):\n",
    "    if n < 2:\n",
    "        return n\n",
    "    a = 0\n",
    "    b = 1\n",
    "    for i in range(2, n + 1):\n",
    "        c = a + b\n",
    "        a = b\n",
    "        b = c\n",
    "    return b"
   ]
  },
  {
   "cell_type": "code",
   "execution_count": 29,
   "metadata": {},
   "outputs": [
    {
     "data": {
      "text/plain": [
       "55"
      ]
     },
     "execution_count": 29,
     "metadata": {},
     "output_type": "execute_result"
    }
   ],
   "source": [
    "fib_best(10)"
   ]
  },
  {
   "cell_type": "markdown",
   "metadata": {},
   "source": [
    "* O(n) space and O(1) memory"
   ]
  },
  {
   "cell_type": "markdown",
   "metadata": {},
   "source": [
    "### Time complexity Analysis\n",
    "* Number of recursion * Time complexity of each calculation"
   ]
  },
  {
   "cell_type": "markdown",
   "metadata": {},
   "source": [
    "* Execution tree,recursive function would form an n-ary tree, with n as the number of times recursion appears in relation.\n",
    "* Time complexity for fibonacci is $2^n - 1$"
   ]
  },
  {
   "cell_type": "markdown",
   "metadata": {},
   "source": [
    "### Space Complexity"
   ]
  },
  {
   "cell_type": "markdown",
   "metadata": {},
   "source": [
    "* Recursion needs space on the stack to keep track of function calls.\n",
    "    - The returning address\n",
    "    - Parameters that passed to function call\n",
    "    - Local variables within the function call\n",
    "* For recursive algorithms, the function calls chain up successively until they reach a base case.\n",
    "* stack overflow, where the stack allocated for a program reaches its maximum space limit and the program crashes."
   ]
  },
  {
   "cell_type": "markdown",
   "metadata": {},
   "source": [
    "### Tail Recursion\n",
    "* Tail recursion is a recursion where the recursive call is the final instruction in the recursion function. And there should be only one recursive call in the function.\n",
    "\n",
    "```\n",
    "def sum_non_tail_recursion(ls):\n",
    "    \"\"\"\n",
    "    :type ls: List[int]\n",
    "    :rtype: int, the sum of the input list.\n",
    "    \"\"\"\n",
    "    if len(ls) == 0:\n",
    "        return 0\n",
    "    \n",
    "    # not a tail recursion because it does some computation after the recursive call returned.\n",
    "    return ls[0] + sum_non_tail_recursion(ls[1:])\n",
    "\n",
    "\n",
    "def sum_tail_recursion(ls):\n",
    "    \"\"\"\n",
    "    :type ls: List[int]\n",
    "    :rtype: int, the sum of the input list.\n",
    "    \"\"\"\n",
    "    def helper(ls, acc):\n",
    "        if len(ls) == 0:\n",
    "            return acc\n",
    "        # this is a tail recursion because the final instruction is a recursive call.\n",
    "        return helper(ls[1:], ls[0] + acc)\n",
    "    \n",
    "    return helper(ls, 0)\n",
    "```\n"
   ]
  },
  {
   "cell_type": "markdown",
   "metadata": {},
   "source": [
    "* Note that in tail recursion, we know that as soon as we return from the recursive call we are going to immediately return as well, so we can skip the entire chain of recursive calls returning and return straight to the original caller. That means we don't need a call stack at all for all of the recursive calls, which saves us space.\n",
    "*  C, C++ support the optimization of tail recursion functions. On the other hand, Java and Python do not support tail recursion optimization."
   ]
  },
  {
   "cell_type": "markdown",
   "metadata": {},
   "source": [
    "### Divide and Conquer\n",
    "* A divide-and-conquer algorithm works by recursively breaking the problem down into two or more subproblems of the same or related type, until these subproblems become simple enough to be solved directly. Then one combines the results of subproblems to form the final solution.\n",
    "1. `Divide` Divide the problem S into a set of subproblems: {s1, s2, .........sn} i.e. there are usually more than one subproblem.\n",
    "\n",
    "2. `Conquer` Solve each subproblem recursively. \n",
    "\n",
    "3. `Combine` Combine the results of each subproblem."
   ]
  },
  {
   "cell_type": "markdown",
   "metadata": {},
   "source": [
    "### Backtracking\n",
    "* General algo to find all solution to some computational problems (Constraint satisfaction problems), Which incrementally builds candidates to the solution and abandons a candidate as soon as it determine we can not get solution using it."
   ]
  },
  {
   "cell_type": "markdown",
   "metadata": {},
   "source": [
    "![](images/backtracking.PNG)"
   ]
  },
  {
   "cell_type": "markdown",
   "metadata": {},
   "source": [
    "* Conceptually, one can imagine the procedure of backtracking as the tree traversal. Starting from the root node, one sets out to search for solutions that are located at the leaf nodes. Each intermediate node represents a partial candidate solution that could potentially lead us to a final valid solution. At each node, we would fan out to move one step further to the final solution, i.e. we iterate the child nodes of the current node. Once we can determine if certain node cannot possibly lead to a valid solution, we abandon the current node and backtrack to its parent node to explore other possibilities."
   ]
  },
  {
   "cell_type": "markdown",
   "metadata": {},
   "source": [
    "![](images/bruteForce.JPEG)\n",
    "![](images/backtracking_1.JPEG)"
   ]
  },
  {
   "cell_type": "markdown",
   "metadata": {},
   "source": [
    "#### Backtracking template\n",
    "\n",
    "```\n",
    "def backtrack(candidate):\n",
    "    if find_solution(candidate):\n",
    "        output(candidate)\n",
    "        return\n",
    "    \n",
    "    # iterate all possible candidates.\n",
    "    for next_candidate in list_of_candidates:\n",
    "        if is_valid(next_candidate):\n",
    "            # try this partial candidate solution\n",
    "            place(next_candidate)\n",
    "            # given the candidate, explore further.\n",
    "            backtrack(next_candidate)\n",
    "            # backtrack\n",
    "            remove(next_candidate)\n",
    "```"
   ]
  },
  {
   "cell_type": "markdown",
   "metadata": {},
   "source": [
    "* 1). at the first level, the function is implemented as recursion. At each occurrence of recursion, the function is one step further to the final solution.  2). as the second level, within the recursion, we have an iteration that allows us to explore all the candidates that are of the same progress to the final solution.\n",
    "* The backtracking should happen at the level of the iteration within the recursion.\n",
    "* Unlike brute-force search, in backtracking algorithms we are often able to determine if a partial solution candidate is worth exploring further (i.e. is_valid(next_candidate)), which allows us to prune the search zones. This is also known as the constraint, e.g. the attacking zone of queen in N-queen game. \n",
    "* There are two symmetric functions that allow us to mark the decision (place(candidate)) and revert the decision (remove(candidate)).  "
   ]
  },
  {
   "cell_type": "markdown",
   "metadata": {},
   "source": [
    "### Recursion to iterative\n",
    "We use a stack or queue data structure within the function, to replace the role of the system call stack. At each occurrence of recursion, we simply push the parameters as a new element into the data structure that we created, instead of invoking a recursion.\n",
    "\n",
    "In addition, we create a loop over the data structure that we created before. The chain invocation of recursion would then be replaced with the iteration within the loop."
   ]
  },
  {
   "cell_type": "code",
   "execution_count": null,
   "metadata": {},
   "outputs": [],
   "source": []
  }
 ],
 "metadata": {
  "kernelspec": {
   "display_name": "Python 3",
   "language": "python",
   "name": "python3"
  },
  "language_info": {
   "codemirror_mode": {
    "name": "ipython",
    "version": 3
   },
   "file_extension": ".py",
   "mimetype": "text/x-python",
   "name": "python",
   "nbconvert_exporter": "python",
   "pygments_lexer": "ipython3",
   "version": "3.7.1"
  }
 },
 "nbformat": 4,
 "nbformat_minor": 2
}
