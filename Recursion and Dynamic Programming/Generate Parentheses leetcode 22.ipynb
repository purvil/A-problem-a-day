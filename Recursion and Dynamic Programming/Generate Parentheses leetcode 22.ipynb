{
 "cells": [
  {
   "cell_type": "code",
   "execution_count": 1,
   "metadata": {},
   "outputs": [],
   "source": [
    "class Solution:\n",
    "    def generateParenthesis(self, n: int):\n",
    "        ans = []\n",
    "        def backtrack(s = '', left = 0, right = 0):\n",
    "            if len(s) == 2 * n:\n",
    "                ans.append(s)\n",
    "            if left < n:\n",
    "                backtrack(s+\"(\", left + 1, right)\n",
    "            if right < left:\n",
    "                backtrack(s+\")\", left, right + 1)\n",
    "        backtrack()\n",
    "        return ans"
   ]
  },
  {
   "cell_type": "code",
   "execution_count": null,
   "metadata": {},
   "outputs": [],
   "source": []
  }
 ],
 "metadata": {
  "kernelspec": {
   "display_name": "Python 3",
   "language": "python",
   "name": "python3"
  },
  "language_info": {
   "codemirror_mode": {
    "name": "ipython",
    "version": 3
   },
   "file_extension": ".py",
   "mimetype": "text/x-python",
   "name": "python",
   "nbconvert_exporter": "python",
   "pygments_lexer": "ipython3",
   "version": "3.7.1"
  }
 },
 "nbformat": 4,
 "nbformat_minor": 2
}
