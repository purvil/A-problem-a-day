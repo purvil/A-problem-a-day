{
 "cells": [
  {
   "cell_type": "markdown",
   "metadata": {},
   "source": [
    "* Given the weights and profits of ‘N’ items, we are asked to put these items in a knapsack which has a capacity ‘C’. The goal is to get the maximum profit from the items in the knapsack. Each item can only be selected once, as we don’t have multiple quantities of any item."
   ]
  },
  {
   "cell_type": "markdown",
   "metadata": {},
   "source": [
    "```\n",
    "Items: { Apple, Orange, Banana, Melon }\n",
    "Weights: { 2, 3, 1, 4 }\n",
    "Profits: { 4, 5, 3, 7 }\n",
    "Knapsack capacity: 5\n",
    "```"
   ]
  },
  {
   "cell_type": "markdown",
   "metadata": {},
   "source": [
    "* Answer will be 10."
   ]
  },
  {
   "cell_type": "markdown",
   "metadata": {},
   "source": [
    "![](../images/knapsack1.SVG)"
   ]
  },
  {
   "cell_type": "code",
   "execution_count": 8,
   "metadata": {},
   "outputs": [],
   "source": [
    "def knapsack(profits, weights, capacity):\n",
    "    return knapsack_rec(profits, weights, capacity, 0)\n",
    "\n",
    "def knapsack_rec(profits, weights, capacity, curIdx):\n",
    "    if capacity <= 0 or curIdx >= len(profits):\n",
    "        return 0\n",
    "    \n",
    "    # Choose current index element\n",
    "    profit1 = 0\n",
    "    if weights[curIdx] <= capacity:\n",
    "        profit1 = profits[curIdx] + knapsack_rec(profits, weights, capacity - weights[curIdx], curIdx + 1)\n",
    "    \n",
    "    # Not choose current index element\n",
    "    profit2 = knapsack_rec(profits, weights, capacity, curIdx + 1) \n",
    "    \n",
    "    return max(profit1, profit2)"
   ]
  },
  {
   "cell_type": "code",
   "execution_count": 9,
   "metadata": {},
   "outputs": [
    {
     "name": "stdout",
     "output_type": "stream",
     "text": [
      "6.71 µs ± 25.1 ns per loop (mean ± std. dev. of 7 runs, 100000 loops each)\n"
     ]
    }
   ],
   "source": [
    "%timeit knapsack([1, 6, 10, 16], [1, 2, 3, 5], 7)"
   ]
  },
  {
   "cell_type": "code",
   "execution_count": 10,
   "metadata": {},
   "outputs": [
    {
     "data": {
      "text/plain": [
       "26"
      ]
     },
     "execution_count": 10,
     "metadata": {},
     "output_type": "execute_result"
    }
   ],
   "source": [
    "knapsack([1, 6, 10, 16], [1, 2, 3, 5], 8)"
   ]
  },
  {
   "cell_type": "markdown",
   "metadata": {},
   "source": [
    "* Time complexity O(2^n) which is 2^n + (2^n - 1) calls.\n",
    "* Space: O(N) recursive call stacks at particular time\n",
    "* Here profits and weights are fix we can memonize curIdx and capacity"
   ]
  },
  {
   "cell_type": "code",
   "execution_count": 25,
   "metadata": {},
   "outputs": [],
   "source": [
    "def solve_knapsack_top_down(profits, weights, capacity):\n",
    "    dp = [[-1 for x in range(capacity + 1)] for _ in range(len(profits))]\n",
    "    return knapsack_rec_top_down(profits, weights, capacity, dp, 0)\n",
    "\n",
    "def knapsack_rec_top_down(profits, weights, capacity, dp, curIdx):\n",
    "    if capacity <= 0 or curIdx >= len(profits):\n",
    "        return 0\n",
    "    if dp[curIdx][capacity] != -1:\n",
    "        return dp[curIdx][capacity]\n",
    "  \n",
    "    profits1 = 0\n",
    "    if weights[curIdx] <= capacity:\n",
    "        profits1 = profits[curIdx] + knapsack_rec_top_down(profits, weights, capacity - weights[curIdx], dp, curIdx + 1)\n",
    "    profits2 = knapsack_rec_top_down(profits, weights, capacity, dp, curIdx + 1)\n",
    "\n",
    "    dp[curIdx][capacity] = max(profits1, profits2)\n",
    "    return dp[curIdx][capacity]"
   ]
  },
  {
   "cell_type": "code",
   "execution_count": 26,
   "metadata": {},
   "outputs": [
    {
     "data": {
      "text/plain": [
       "22"
      ]
     },
     "execution_count": 26,
     "metadata": {},
     "output_type": "execute_result"
    }
   ],
   "source": [
    "solve_knapsack_top_down([1, 6, 10, 16], [1, 2, 3, 5], 7)"
   ]
  },
  {
   "cell_type": "markdown",
   "metadata": {},
   "source": [
    "* Time: O(N*C) Where C is knapsack capacity. Imagine each combination of capacity and curIdx needs to be calculated\n",
    "* Space: O(N*C) for memoization and O(N) for recursive stack"
   ]
  },
  {
   "cell_type": "markdown",
   "metadata": {},
   "source": [
    "* Bottom up solution\n",
    "    - We want to find max profit for each sub array and for every possible capacity. dp[i][c] will represent max knapsack profit for capacity c calculated the first i items.\n",
    "    - For each place, we can exclude the item at index i. => dp[i-1][c] or include item at i if its weight more than capacity. profit plus whatever we get from remaining capacity profit[i] + dp[i-1][c - weight[i]]"
   ]
  },
  {
   "cell_type": "code",
   "execution_count": 66,
   "metadata": {},
   "outputs": [],
   "source": [
    "def solve_knapsack_bottom_up(profits, weights, capacity):\n",
    "    if capacity <= 0:\n",
    "        return 0\n",
    "    dp = [[0 for x in range(capacity + 1)] for _ in range(len(profits))]\n",
    "    \n",
    "    for c in range(capacity + 1):\n",
    "        if weights[0] <= c:\n",
    "            dp[0][c] = profits[0]\n",
    "            \n",
    "    for cur_idx in range(1, len(dp)):\n",
    "        for c in range(1, len(dp[0])):\n",
    "            profit1, profit2 = 0, 0\n",
    "            if weights[cur_idx] <= c:\n",
    "                profit1 = profits[cur_idx] + dp[cur_idx - 1][c - weights[cur_idx]]\n",
    "            profit2 = dp[cur_idx - 1][c]\n",
    "            \n",
    "            dp[cur_idx][c] = max(profit1, profit2)\n",
    "    return dp[-1][capacity]\n",
    "            "
   ]
  },
  {
   "cell_type": "code",
   "execution_count": 65,
   "metadata": {},
   "outputs": [
    {
     "name": "stdout",
     "output_type": "stream",
     "text": [
      "[[0, 1, 1, 1, 1, 1, 1, 1], [0, 1, 6, 7, 7, 7, 7, 7], [0, 1, 6, 10, 11, 16, 17, 17], [0, 1, 6, 10, 11, 16, 17, 22]]\n"
     ]
    },
    {
     "data": {
      "text/plain": [
       "22"
      ]
     },
     "execution_count": 65,
     "metadata": {},
     "output_type": "execute_result"
    }
   ],
   "source": [
    "solve_knapsack_bottom_up([1, 6, 10, 16], [1, 2, 3, 5], 7)"
   ]
  },
  {
   "cell_type": "markdown",
   "metadata": {},
   "source": [
    "### Finding item which is in knapsack"
   ]
  },
  {
   "cell_type": "markdown",
   "metadata": {},
   "source": [
    "![](../images/knapsack2.SVG)"
   ]
  },
  {
   "cell_type": "markdown",
   "metadata": {},
   "source": [
    "* Out max profit is at last cell.\n",
    "* If it is same as above cell, we inherited max profit from above cell, means current cell item not included\n",
    "* If it is different than above cell, we will go to max_profit - cur_index_profit cell in current row.\n",
    "* untill we hit 0"
   ]
  },
  {
   "cell_type": "code",
   "execution_count": 96,
   "metadata": {},
   "outputs": [],
   "source": [
    "def knapsack_items(profits, weights, capacity):\n",
    "    n = len(profits)\n",
    "    items = []\n",
    "    if capacity <= 0:\n",
    "        return items\n",
    "    \n",
    "    dp = [[0 for x in range(capacity + 1)] for _ in range(n)]\n",
    "    for c in range(capacity + 1):\n",
    "        if weights[0] <= c:\n",
    "            dp[0][c] = profits[0]\n",
    "            \n",
    "    for cur_idx in range(1, len(dp)):\n",
    "        for c in range(1, len(dp[0])):\n",
    "            profit1, profit2 = 0, 0\n",
    "            if weights[cur_idx] <= c:\n",
    "                profit1 = profits[cur_idx] + dp[cur_idx - 1][c - weights[cur_idx]]\n",
    "            profit2 = dp[cur_idx - 1][c]\n",
    "            \n",
    "            dp[cur_idx][c] = max(profit1, profit2)\n",
    "    \n",
    "    # find the item\n",
    "    row = n - 1\n",
    "    col = capacity\n",
    "    while dp[row][col] != 0:\n",
    "        if row < 0 or col < 0:\n",
    "            return\n",
    "        while dp[row][col] == dp[row-1][col]:\n",
    "            row -= 1\n",
    "        items.append(row)\n",
    "        # search for dp[row][col] - profits[row] in current row\n",
    "        needed = dp[row][col] - profits[row]\n",
    "        while col >= 0 and dp[row][col] != needed:\n",
    "            col -= 1\n",
    "    return items\n",
    "        "
   ]
  },
  {
   "cell_type": "code",
   "execution_count": 97,
   "metadata": {
    "scrolled": true
   },
   "outputs": [
    {
     "data": {
      "text/plain": [
       "[3, 1]"
      ]
     },
     "execution_count": 97,
     "metadata": {},
     "output_type": "execute_result"
    }
   ],
   "source": [
    "knapsack_items([1, 6, 10, 16], [1, 2, 3, 5], 7)"
   ]
  },
  {
   "cell_type": "markdown",
   "metadata": {},
   "source": [
    "###  Given a set of positive numbers, find if we can partition it into two subsets such that the sum of elements in both the subsets is equal."
   ]
  },
  {
   "cell_type": "code",
   "execution_count": 98,
   "metadata": {},
   "outputs": [],
   "source": [
    "def can_partition(num):\n",
    "  # We want to find any subset which has sum S/2 where S is total sum of all elements in num.\n",
    "    if not num:\n",
    "        return False\n",
    "\n",
    "    S = sum(num)\n",
    "    if S % 2 != 0:\n",
    "        return False\n",
    "  \n",
    "    return can_parition_rec(num, 0, S//2)\n",
    "\n",
    "def can_parition_rec(num, curIdx, s):\n",
    "    if s == 0:\n",
    "        return True\n",
    "    if curIdx >= len(num):\n",
    "        return False\n",
    "      # subset which include cur_el\n",
    "    if num[curIdx] <= s:\n",
    "        if (can_parition_rec(num, curIdx+1, s - num[curIdx])):\n",
    "            return True\n",
    "  # subset which exclude cur_el\n",
    "    return can_parition_rec(num, curIdx+1, s)"
   ]
  },
  {
   "cell_type": "markdown",
   "metadata": {},
   "source": [
    "\n",
    "O(2^n) Time ans O(n) space"
   ]
  },
  {
   "cell_type": "markdown",
   "metadata": {},
   "source": [
    "#### Top-down"
   ]
  },
  {
   "cell_type": "markdown",
   "metadata": {},
   "source": [
    "```\n",
    "def can_partition(num):\n",
    "  if not num:\n",
    "    return True\n",
    "  s = sum(num)\n",
    "\n",
    "  if s % 2 != 0:\n",
    "    return False\n",
    "  dp = [[None for x in range(s//2 + 1)] for _ in range(len(num))]\n",
    "  return True if can_partition_top_down(num, 0, dp, s//2) == True else False\n",
    "\n",
    "def can_partition_top_down(num, curIdx, dp, s):\n",
    "  if s==0:\n",
    "    return True\n",
    "  if curIdx >= len(num):\n",
    "    return False\n",
    "  if dp[curIdx][s] != None:\n",
    "    return dp[curIdx][s]\n",
    "  if num[curIdx] <= s:\n",
    "    if can_partition_top_down(num, curIdx+1, dp, s - num[curIdx]):\n",
    "      dp[curIdx][s] = True\n",
    "      return True\n",
    "  dp[curIdx][s] = can_partition_top_down(num, curIdx+1, dp, s)\n",
    "  return dp[curIdx][s]\n",
    "  \n",
    "```"
   ]
  },
  {
   "cell_type": "markdown",
   "metadata": {},
   "source": [
    "* Time O(N*s)\n",
    "* Space O(N*s)"
   ]
  },
  {
   "cell_type": "markdown",
   "metadata": {},
   "source": [
    "* In bottom up solution "
   ]
  },
  {
   "cell_type": "markdown",
   "metadata": {},
   "source": [
    "```\n",
    "def can_partition(num):\n",
    "  if not num:\n",
    "    return True\n",
    "  s = sum(num)\n",
    "  if s % 2 != 0:\n",
    "    return False\n",
    "  s = s // 2\n",
    "  dp = [[False for x in range(s+1)] for _ in range(len(num))]\n",
    "\n",
    "  # 0 sum can be achieved by empty set\n",
    "  for i in range(len(num)):\n",
    "    dp[i][0] = True\n",
    "\n",
    "  # First row, can be True only if sum == num[0]\n",
    "  for i in range(1, s+1):\n",
    "    dp[0][i] = num[0] == i\n",
    "\n",
    "  for i in range(1, len(num)):\n",
    "    for s in range(1, s//2 + 1):\n",
    "      # Can I achive sum without current num help?\n",
    "      if dp[i-1][s]:\n",
    "        dp[i][s] = True\n",
    "      elif num[i] <= s: \n",
    "          dp[i][s] =  dp[i-1][s - num[i]]\n",
    "  return dp[len(num)-1][s]\n",
    "```\n",
    "![](../images/knapsack3.PNG)"
   ]
  },
  {
   "cell_type": "markdown",
   "metadata": {},
   "source": [
    "So, for each number at index ‘i’ (0 <= i < num.length) and sum ‘s’ (0 <= s <= S/2), we have two options:\n",
    "\n",
    "Exclude the number. In this case, we will see if we can get ‘s’ from the subset excluding this number: dp[i-1][s]\n",
    "Include the number if its value is not more than ‘s’. In this case, we will see if we can find a subset to get the remaining sum: dp[i-1][s-num[i]]"
   ]
  },
  {
   "cell_type": "markdown",
   "metadata": {},
   "source": [
    "### Subset Sum\n",
    "Given a set of positive numbers, determine if there exists a subset whose sum is equal to a given number ‘S’."
   ]
  },
  {
   "cell_type": "markdown",
   "metadata": {},
   "source": [
    "```\n",
    "def can_partition(num, sum):\n",
    "   #TODO: Write - Your - Code\n",
    "   if not num:\n",
    "      return False\n",
    "   if sum == 0:\n",
    "      return True\n",
    "\n",
    "   return find_sum_rec(num,sum, 0)\n",
    "\n",
    "def find_sum_rec(num, s, curIdx):\n",
    "   if s == 0:\n",
    "      return True\n",
    "   if curIdx >= len(num):\n",
    "      return False\n",
    "\n",
    "   # include current element\n",
    "   if s >= num[curIdx]:\n",
    "      if find_sum_rec(num, s - num[curIdx], curIdx + 1):\n",
    "         return True\n",
    "   # Exclude current element\n",
    "   return find_sum_rec(num, s, curIdx + 1)\n",
    "```"
   ]
  },
  {
   "cell_type": "markdown",
   "metadata": {},
   "source": [
    "### Top-down approach\n",
    "\n",
    "```\n",
    "def can_partition(num, sum):\n",
    "   #TODO: Write - Your - Code\n",
    "   print(num,sum)\n",
    "   if not num:\n",
    "      return False\n",
    "   if sum == 0:\n",
    "      return True\n",
    "   dp = [[None for x in range(sum + 1)] for _ in range(len(num))]\n",
    "   print(dp)\n",
    "   # sum can be 0\n",
    "   for i in range(len(num)):\n",
    "      dp[i][0] = True\n",
    "   \n",
    "   # first row\n",
    "   for i in range(len(dp[0])):\n",
    "      dp[0][i] = num[0] == i\n",
    "\n",
    "   return find_sum_rec(num, sum, 0, dp)\n",
    "\n",
    "def find_sum_rec(num, s, curIdx, dp):\n",
    "   if s == 0:\n",
    "      return True\n",
    "   if curIdx >= len(num):\n",
    "      return False\n",
    "   print(curIdx, s)\n",
    "   if dp[curIdx][s]:\n",
    "      return dp[curIdx][s]\n",
    "\n",
    "   # include current element\n",
    "   if s >= num[curIdx]:\n",
    "      if find_sum_rec(num, s - num[curIdx], curIdx + 1, dp):\n",
    "         dp[curIdx][s] = True\n",
    "         return True\n",
    "   # Exclude current element\n",
    "   dp[curIdx][s] = find_sum_rec(num, s, curIdx + 1, dp)\n",
    "   return dp[curIdx][s]\n",
    "```\n"
   ]
  },
  {
   "cell_type": "markdown",
   "metadata": {},
   "source": [
    "### Bottom-up\n",
    "\n",
    "```\n",
    "def can_partition(num, sum):\n",
    "   if not num:\n",
    "     return False\n",
    "   if sum == 0:\n",
    "      return True\n",
    "   n = len(num)\n",
    "\n",
    "   dp = [[False for x in range(sum + 1)] for _ in range(n)]\n",
    "\n",
    "   # Handle first column where sum = 0, all true!!!\n",
    "   for i in range(n):\n",
    "      dp[i][0] = True\n",
    "   \n",
    "   # handle first row\n",
    "   for i in range(1, sum + 1):\n",
    "      dp[0][i] = i == num[0]\n",
    "\n",
    "   for i in range(1, n):\n",
    "      for s in range(1, sum+1):\n",
    "         # What if I do not include?\n",
    "         if dp[i-1][s]:\n",
    "            dp[i-1][s] = True\n",
    "         elif s >= num[i]: # What if I include?\n",
    "            dp[i][s] = dp[i-1][s - num[i]]\n",
    "   return dp[n - 1][sum]            \n",
    "```"
   ]
  },
  {
   "cell_type": "markdown",
   "metadata": {},
   "source": [
    "* O(S) space solution, below\n",
    "```\n",
    "def can_partition(num, sum):\n",
    "   if not num:\n",
    "     return False\n",
    "   if sum == 0:\n",
    "      return True\n",
    "   n = len(num)\n",
    "\n",
    "   dp = [False for _ in range(sum + 1)]\n",
    "   dp[0] = True\n",
    "   for i in range(1, len(dp)):\n",
    "      dp[i] = i == num[0]\n",
    "   \n",
    "   for i in range(1, len(num)):\n",
    "      for s in range(sum,-1,-1):\n",
    "         # if dp[s] alrady True we are good, do not need to touch sum with our current value\n",
    "         if not dp[s] and s >= num[i]:\n",
    "            dp[s] = dp[s - num[i]]\n",
    "   return dp[-1]\n",
    "```"
   ]
  },
  {
   "cell_type": "markdown",
   "metadata": {},
   "source": [
    "### Min Sum difference between subset of an array\n",
    "* Given a set of positive numbers, partition the set into two subsets with a minimum difference between their subset sums."
   ]
  },
  {
   "cell_type": "markdown",
   "metadata": {},
   "source": [
    "![](../images/knapsack4.jpg)"
   ]
  },
  {
   "cell_type": "markdown",
   "metadata": {},
   "source": [
    "* S1 and S2 are the two desired subsets. A basic brute-force solution could be to try adding each element either in S1 or S2, to find the combination that gives the minimum sum difference between the two sets."
   ]
  },
  {
   "cell_type": "code",
   "execution_count": 106,
   "metadata": {},
   "outputs": [],
   "source": [
    "def minSumDiff(array):\n",
    "    if not array:\n",
    "        return 0\n",
    "    return recHelper(array, 0, 0, 0)\n",
    "    \n",
    "def recHelper(array, curIdx, s1, s2):\n",
    "    if curIdx == len(array):\n",
    "        return abs(s1 - s2)\n",
    "    \n",
    "    # put current index in subset s1\n",
    "    diff1 = recHelper(array, curIdx+1, s1 + array[curIdx], s2)\n",
    "    \n",
    "    # put current index in subset s2\n",
    "    diff2 = recHelper(array, curIdx + 1, s1, s2 + array[curIdx])\n",
    "    \n",
    "    return min(diff1, diff2)"
   ]
  },
  {
   "cell_type": "code",
   "execution_count": 107,
   "metadata": {},
   "outputs": [
    {
     "data": {
      "text/plain": [
       "3"
      ]
     },
     "execution_count": 107,
     "metadata": {},
     "output_type": "execute_result"
    }
   ],
   "source": [
    "minSumDiff([1,2,3,9])"
   ]
  },
  {
   "cell_type": "markdown",
   "metadata": {},
   "source": [
    "* Time complexity 2^n\n",
    "* space complexity O(n)"
   ]
  },
  {
   "cell_type": "markdown",
   "metadata": {},
   "source": [
    "#### Top down"
   ]
  },
  {
   "cell_type": "code",
   "execution_count": 108,
   "metadata": {},
   "outputs": [],
   "source": [
    "# We can identify our cached data only by s1 and curIdx as s2 will always be total  - s1.\n",
    "def minSumSubset(array):\n",
    "    if not array:\n",
    "        return 0\n",
    "    total = sum(array)\n",
    "    dp = [[-1 for x in range(total + 1)] for _ in range(len(array))]\n",
    "    return recHelperTopDown(array, 0, 0, 0, dp)\n",
    "\n",
    "def recHelperTopDown(array, curIdx, s1, s2, dp):\n",
    "    if curIdx == len(array):\n",
    "        return abs(s1-s2)\n",
    "    if dp[curIdx][s1] == -1:\n",
    "        diff1 = recHelperTopDown(array, curIdx + 1, s1 + array[curIdx], s2, dp)\n",
    "        diff2 = recHelperTopDown(array, curIdx + 1, s1, s2 + array[curIdx], dp)\n",
    "        dp[curIdx][s1] = min(diff1, diff2)\n",
    "    return dp[curIdx][s1]"
   ]
  },
  {
   "cell_type": "code",
   "execution_count": 109,
   "metadata": {},
   "outputs": [
    {
     "data": {
      "text/plain": [
       "3"
      ]
     },
     "execution_count": 109,
     "metadata": {},
     "output_type": "execute_result"
    }
   ],
   "source": [
    "minSumSubset([1,2,3,9])"
   ]
  },
  {
   "cell_type": "markdown",
   "metadata": {},
   "source": [
    "#### Bottom up"
   ]
  },
  {
   "cell_type": "markdown",
   "metadata": {},
   "source": [
    "* What is the ideal value we are searching for to minimize the diff. S/2 where S is total sum of an array. We will have all sum between S = 0 to S = S//2. Whatever is the highest that will be our sum of s1."
   ]
  },
  {
   "cell_type": "code",
   "execution_count": 112,
   "metadata": {},
   "outputs": [],
   "source": [
    "def minSumSubset(array):\n",
    "    n = len(array)\n",
    "    total = sum(array)\n",
    "    s = total // 2\n",
    "    dp = [[False for x in range(s + 1)] for _ in range(n)]\n",
    "    # we can get sum of 0 \n",
    "    for i in range(n):\n",
    "        dp[i][0] = True\n",
    "        \n",
    "    # Handle first row\n",
    "    for i in range(1, s+1):\n",
    "        dp[0][i] = i == array[0]\n",
    "    \n",
    "    for i in range(1, n):\n",
    "        for j in range(1, s+1):\n",
    "            if dp[i-1][j]:\n",
    "                dp[i][j] = True\n",
    "            elif j >= array[i]:\n",
    "                dp[i][j] = dp[i-1][j - array[i]]\n",
    "    # find highest sum for s1\n",
    "    for i in range(s, -1,-1):\n",
    "        if dp[n-1][i]:\n",
    "            break\n",
    "    s1 = i\n",
    "    s2 = total - s1\n",
    "    \n",
    "    return abs(s1-s2)"
   ]
  },
  {
   "cell_type": "markdown",
   "metadata": {},
   "source": [
    "### Count of subset sum"
   ]
  },
  {
   "cell_type": "markdown",
   "metadata": {},
   "source": [
    "Given a set of positive numbers, find the total number of subsets whose sum is equal to a given number ‘S’."
   ]
  },
  {
   "cell_type": "code",
   "execution_count": 119,
   "metadata": {},
   "outputs": [],
   "source": [
    "def totalSubset(array, s):\n",
    "    if not array:\n",
    "        return 0\n",
    "    if s == 0:\n",
    "        return len(array)\n",
    "    \n",
    "    total = recTotalSubset(array, 0, s)\n",
    "    return total\n",
    "def recTotalSubset(array, curIdx, s):\n",
    "    total = 0\n",
    "    if s == 0:\n",
    "        return 1\n",
    "    if curIdx >= len(array):\n",
    "        return 0\n",
    "    if s >= array[curIdx]:\n",
    "        total += recTotalSubset(array, curIdx + 1,s - array[curIdx])\n",
    "    total += recTotalSubset(array, curIdx+1, s)\n",
    "    return total"
   ]
  },
  {
   "cell_type": "code",
   "execution_count": 121,
   "metadata": {},
   "outputs": [
    {
     "data": {
      "text/plain": [
       "3"
      ]
     },
     "execution_count": 121,
     "metadata": {},
     "output_type": "execute_result"
    }
   ],
   "source": [
    "totalSubset([1, 2, 7, 1, 5], 9)"
   ]
  },
  {
   "cell_type": "markdown",
   "metadata": {},
   "source": [
    "#### Top Down"
   ]
  },
  {
   "cell_type": "markdown",
   "metadata": {},
   "source": [
    "```\n",
    "def count_subsets(num, sum):\n",
    "  if sum == 0:\n",
    "    return len(num)\n",
    "  if not num:\n",
    "    return 0\n",
    "  n = len(num)\n",
    "  dp = [[-1 for x in range(sum+1)] for y in range(n)]\n",
    "  \n",
    "  return count_subset_rec(num, sum, 0, dp)\n",
    "def count_subset_rec(num, s, curIdx, dp):\n",
    "  if s == 0:\n",
    "    return 1\n",
    "  if curIdx >= len(num):\n",
    "    return 0\n",
    "\n",
    "  if dp[curIdx][s] == -1:\n",
    "    total = 0\n",
    "    # include cur element\n",
    "    if s >= num[curIdx]:\n",
    "      total += count_subset_rec(num, s - num[curIdx], curIdx +1, dp)\n",
    "\n",
    "  # Not include current element\n",
    "    total += count_subset_rec(num, s, curIdx+1, dp)\n",
    "    dp[curIdx][s] = total\n",
    "  return dp[curIdx][s]\n",
    "```"
   ]
  },
  {
   "cell_type": "markdown",
   "metadata": {},
   "source": [
    "#### Bottom up\n",
    "\n",
    "```\n",
    "def count_subsets(num, sum):\n",
    "  if sum == 0:\n",
    "    return len(num)\n",
    "  if not num:\n",
    "    return 0\n",
    "  n = len(num)\n",
    "  dp = [[-1 for x in range(sum+1)] for y in range(n)]\n",
    "  for i in range(n):\n",
    "    dp[i][0] = 1\n",
    "\n",
    "  for i in range(1, sum+1):\n",
    "    dp[0][i] =  1 if i == num[0] else 0\n",
    "  \n",
    "  for i in range(1, n):\n",
    "    for s in range(1, sum+1):\n",
    "      dp[i][s] = dp[i-1][s]\n",
    "      if s >= num[i]:\n",
    "        dp[i][s] += dp[i-1][s - num[i]]\n",
    "  return dp[n-1][sum]\n",
    "\n",
    "```"
   ]
  },
  {
   "cell_type": "markdown",
   "metadata": {},
   "source": [
    "#### O(Sum) Bottom up\n",
    "```\n",
    "def count_subsets(num, sum):\n",
    "  if sum == 0:\n",
    "    return len(num)\n",
    "  if not num:\n",
    "    return 0\n",
    "  n = len(num)\n",
    "  dp = [1 if x == num[0] else 0 for x in range(sum+1)]\n",
    "  dp[0] = 1\n",
    "\n",
    "  for i in range(1,n):\n",
    "    for s in range(sum, -1,-1):\n",
    "      if s >= num[i]:\n",
    "        dp[s] += dp[s - num[i]]\n",
    "  return dp[-1]\n",
    "```"
   ]
  },
  {
   "cell_type": "markdown",
   "metadata": {},
   "source": [
    "### Target Sum\n",
    "* Given a set of positive numbers (non zero) and a target sum ‘S’. Each number should be assigned either a ‘+’ or ‘-’ sign. We need to find out total ways to assign symbols to make the sum of numbers equal to target ‘S’.\n",
    "\n",
    "* Input: {1, 1, 2, 3}, S=1\n",
    "Output: 3\n",
    "Explanation: The given set has '3' ways to make a sum of '1': {+1-1-2+3} & {-1+1-2+3} & {+1+1+2-3}\n",
    "\n",
    "* Input: {1, 2, 7, 1}, S=9\n",
    "Output: 2\n",
    "Explanation: The given set has '2' ways to make a sum of '9': {+1+2+7-1} & {-1+2+7+1}"
   ]
  },
  {
   "cell_type": "markdown",
   "metadata": {},
   "source": [
    "* after assigning numbers to + and - sign. Some will be in + and Some will be in - group\n",
    "* Sum(s1) - sum(s2) = S\n",
    "* Also, we know that sum(s1) + sum(s2) = sum(num)\n",
    "* Solving these leads us to,\n",
    "* 2 * sum(s1) = S + sum(num)\n",
    "* sum(s1) = (S + sum(num)) / 2\n",
    "* Now we will have to find subset whose sum will be as above."
   ]
  },
  {
   "cell_type": "code",
   "execution_count": 7,
   "metadata": {},
   "outputs": [],
   "source": [
    "def targetSum(array, s):\n",
    "    # I want to find a group s1 whose sum is (S + sum(array)) // 2\n",
    "    if not array:\n",
    "        return 0\n",
    "    n = len(array)\n",
    "    total = sum(array)\n",
    "    if total < s:\n",
    "        return 0\n",
    "    target_sum = total + s\n",
    "    if target_sum % 2 != 0:\n",
    "        return 0\n",
    "    s1 = target_sum // 2\n",
    "    \n",
    "    return targetSumRec(array, s1, 0)\n",
    "\n",
    "def targetSumRec(array, s, curIdx):\n",
    "    if s == 0:\n",
    "        return 1\n",
    "    if curIdx >= len(array):\n",
    "        return 0\n",
    "    total = 0\n",
    "    if array[curIdx] <= s:\n",
    "        total += targetSumRec(array, s - array[curIdx], curIdx + 1)\n",
    "    \n",
    "    # Not include curIdx\n",
    "    total += targetSumRec(array, s, curIdx + 1)\n",
    "    return total"
   ]
  },
  {
   "cell_type": "code",
   "execution_count": 8,
   "metadata": {},
   "outputs": [
    {
     "data": {
      "text/plain": [
       "3"
      ]
     },
     "execution_count": 8,
     "metadata": {},
     "output_type": "execute_result"
    }
   ],
   "source": [
    "targetSum([1, 1, 2, 3], 1)"
   ]
  },
  {
   "cell_type": "code",
   "execution_count": 19,
   "metadata": {},
   "outputs": [
    {
     "data": {
      "text/plain": [
       "2"
      ]
     },
     "execution_count": 19,
     "metadata": {},
     "output_type": "execute_result"
    }
   ],
   "source": [
    "targetSum([1, 2, 7, 1], 9)"
   ]
  },
  {
   "cell_type": "markdown",
   "metadata": {},
   "source": [
    "#### Top Down"
   ]
  },
  {
   "cell_type": "code",
   "execution_count": 17,
   "metadata": {},
   "outputs": [],
   "source": [
    "def targetSumTopDown(array, s):\n",
    "    if not array:\n",
    "        return 0\n",
    "    total = sum(array)\n",
    "    if total < s:\n",
    "        return 0\n",
    "    target_sum = total + s\n",
    "    if target_sum % 2 != 0:\n",
    "        return 0\n",
    "    s1 = target_sum // 2\n",
    "    n = len(array)\n",
    "    \n",
    "    dp = [[-1 for x in range(s1+1)] for y in range(n)]\n",
    "    \n",
    "    return targetSumTopDownRec(array, s1, 0, dp)\n",
    "    \n",
    "    \n",
    "def targetSumTopDownRec(array, s, curIdx, dp):\n",
    "    if s == 0:\n",
    "        return 1\n",
    "    if curIdx >= len(array):\n",
    "        return 0\n",
    "    if dp[curIdx][s] == -1:\n",
    "        total = 0\n",
    "        if array[curIdx] <= s:\n",
    "            total += targetSumTopDownRec(array, s - array[curIdx], curIdx + 1, dp)\n",
    "        total += targetSumTopDownRec(array, s, curIdx + 1, dp)\n",
    "        dp[curIdx][s] = total\n",
    "    return dp[curIdx][s]"
   ]
  },
  {
   "cell_type": "code",
   "execution_count": 18,
   "metadata": {},
   "outputs": [
    {
     "data": {
      "text/plain": [
       "3"
      ]
     },
     "execution_count": 18,
     "metadata": {},
     "output_type": "execute_result"
    }
   ],
   "source": [
    "targetSumTopDown([1, 1, 2, 3], 1)"
   ]
  },
  {
   "cell_type": "code",
   "execution_count": 20,
   "metadata": {},
   "outputs": [
    {
     "data": {
      "text/plain": [
       "2"
      ]
     },
     "execution_count": 20,
     "metadata": {},
     "output_type": "execute_result"
    }
   ],
   "source": [
    "targetSumTopDown([1, 2, 7, 1], 9)"
   ]
  },
  {
   "cell_type": "markdown",
   "metadata": {},
   "source": [
    "#### Bottom up"
   ]
  },
  {
   "cell_type": "code",
   "execution_count": 28,
   "metadata": {},
   "outputs": [],
   "source": [
    "def targetSumBottomUp(array, s):\n",
    "    if not array:\n",
    "        return 0\n",
    "    total = sum(array)\n",
    "    if total < s:\n",
    "        return 0\n",
    "    target_sum = total + s\n",
    "    \n",
    "    if target_sum % 2 != 0:\n",
    "        return 0\n",
    "    s1 = target_sum // 2\n",
    "    n = len(array)\n",
    "    dp = [[-1 for x in range(s1 + 1)] for y in range(n)]\n",
    "    \n",
    "    for row in range(n):\n",
    "        dp[row][0] = 1\n",
    "    \n",
    "    for col in range(1, s1 + 1):\n",
    "        dp[0][col] = 1 if array[0] == col else 0\n",
    "    \n",
    "    for curIdx in range(1, n):\n",
    "        for s in range(1, s1+1):\n",
    "            # if I do not add myself\n",
    "            dp[curIdx][s] = dp[curIdx-1][s]\n",
    "            if array[curIdx] <= s:\n",
    "                dp[curIdx][s] += dp[curIdx - 1][s-array[curIdx]]\n",
    "    return dp[n-1][s]\n",
    "                "
   ]
  },
  {
   "cell_type": "code",
   "execution_count": 30,
   "metadata": {},
   "outputs": [
    {
     "data": {
      "text/plain": [
       "3"
      ]
     },
     "execution_count": 30,
     "metadata": {},
     "output_type": "execute_result"
    }
   ],
   "source": [
    "targetSumBottomUp([1, 1, 2, 3], 1)"
   ]
  },
  {
   "cell_type": "markdown",
   "metadata": {},
   "source": [
    "#### O(s) memory"
   ]
  },
  {
   "cell_type": "code",
   "execution_count": 36,
   "metadata": {},
   "outputs": [],
   "source": [
    "def targetSumLessMemory(array, s):\n",
    "    if not array:\n",
    "        return 0\n",
    "    total = sum(array)\n",
    "    target_sum = total + s\n",
    "    if target_sum % 2 != 0:\n",
    "        return 0\n",
    "    s1 = target_sum // 2\n",
    "    n = len(array)\n",
    "    dp = [-1 for x in range(s1+1)]\n",
    "    dp[0] = 1\n",
    "    for s in range(1, len(dp)):\n",
    "        dp[s] = 1 if array[0] == s else 0\n",
    "    \n",
    "    for i in range(1, n):\n",
    "        for j in range(s1, -1, -1):\n",
    "            if array[i] <= j:\n",
    "                dp[j] += dp[j - array[i]]\n",
    "    return dp[-1]"
   ]
  },
  {
   "cell_type": "code",
   "execution_count": 37,
   "metadata": {},
   "outputs": [
    {
     "data": {
      "text/plain": [
       "3"
      ]
     },
     "execution_count": 37,
     "metadata": {},
     "output_type": "execute_result"
    }
   ],
   "source": [
    "targetSumLessMemory([1, 1, 2, 3], 1)"
   ]
  },
  {
   "cell_type": "code",
   "execution_count": null,
   "metadata": {},
   "outputs": [],
   "source": []
  }
 ],
 "metadata": {
  "kernelspec": {
   "display_name": "Python 3",
   "language": "python",
   "name": "python3"
  },
  "language_info": {
   "codemirror_mode": {
    "name": "ipython",
    "version": 3
   },
   "file_extension": ".py",
   "mimetype": "text/x-python",
   "name": "python",
   "nbconvert_exporter": "python",
   "pygments_lexer": "ipython3",
   "version": "3.7.1"
  },
  "varInspector": {
   "cols": {
    "lenName": 16,
    "lenType": 16,
    "lenVar": 40
   },
   "kernels_config": {
    "python": {
     "delete_cmd_postfix": "",
     "delete_cmd_prefix": "del ",
     "library": "var_list.py",
     "varRefreshCmd": "print(var_dic_list())"
    },
    "r": {
     "delete_cmd_postfix": ") ",
     "delete_cmd_prefix": "rm(",
     "library": "var_list.r",
     "varRefreshCmd": "cat(var_dic_list()) "
    }
   },
   "types_to_exclude": [
    "module",
    "function",
    "builtin_function_or_method",
    "instance",
    "_Feature"
   ],
   "window_display": false
  }
 },
 "nbformat": 4,
 "nbformat_minor": 2
}
