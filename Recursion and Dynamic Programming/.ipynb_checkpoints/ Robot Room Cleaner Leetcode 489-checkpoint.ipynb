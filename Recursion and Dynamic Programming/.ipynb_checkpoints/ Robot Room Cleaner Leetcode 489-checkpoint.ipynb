{
 "cells": [
  {
   "cell_type": "code",
   "execution_count": 1,
   "metadata": {},
   "outputs": [],
   "source": [
    "# \"\"\"\n",
    "# This is the robot's control interface.\n",
    "# You should not implement it, or speculate about its implementation\n",
    "# \"\"\"\n",
    "#class Robot:\n",
    "#    def move(self):\n",
    "#        \"\"\"\n",
    "#        Returns true if the cell in front is open and robot moves into the cell.\n",
    "#        Returns false if the cell in front is blocked and robot stays in the current cell.\n",
    "#        :rtype bool\n",
    "#        \"\"\"\n",
    "#\n",
    "#    def turnLeft(self):\n",
    "#        \"\"\"\n",
    "#        Robot will stay in the same cell after calling turnLeft/turnRight.\n",
    "#        Each turn will be 90 degrees.\n",
    "#        :rtype void\n",
    "#        \"\"\"\n",
    "#\n",
    "#    def turnRight(self):\n",
    "#        \"\"\"\n",
    "#        Robot will stay in the same cell after calling turnLeft/turnRight.\n",
    "#        Each turn will be 90 degrees.\n",
    "#        :rtype void\n",
    "#        \"\"\"\n",
    "#\n",
    "#    def clean(self):\n",
    "#        \"\"\"\n",
    "#        Clean the current cell.\n",
    "#        :rtype void\n",
    "#        \"\"\"\n",
    "\n",
    "class Solution:\n",
    "    def cleanRoom(self, robot):\n",
    "        \"\"\"\n",
    "        :type robot: Robot\n",
    "        :rtype: None\n",
    "        \"\"\"\n",
    "        def go_back():\n",
    "            robot.turnRight()\n",
    "            robot.turnRight()\n",
    "            robot.move()\n",
    "            robot.turnRight()\n",
    "            robot.turnRight()\n",
    "            \n",
    "        def backtrack(cell = (0,0), d = 0):\n",
    "            visited.add(cell)\n",
    "            robot.clean()\n",
    "            for i in range(4):\n",
    "                new_d = (d + i) % 4\n",
    "                new_cell = (cell[0] + direction[new_d][0], cell[1] + direction[new_d][1])\n",
    "                if not new_cell in visited and robot.move():\n",
    "                    backtrack(new_cell, new_d)\n",
    "                    go_back()\n",
    "                robot.turnRight()\n",
    "        \n",
    "        # going clockwise : 0: 'up', 1: 'right', 2: 'down', 3: 'left'\n",
    "        direction = [(-1, 0), (0, 1), (1, 0), (0, -1)]\n",
    "        visited = set()\n",
    "        backtrack()"
   ]
  },
  {
   "cell_type": "markdown",
   "metadata": {},
   "source": [
    "* Time complexity is $4^{N-M}$. N is number of cells in the room and M is a number of obstacles becuase for each cell algo checks all 4 directions\n",
    "* Space is O(N-M)"
   ]
  },
  {
   "cell_type": "code",
   "execution_count": null,
   "metadata": {},
   "outputs": [],
   "source": []
  }
 ],
 "metadata": {
  "kernelspec": {
   "display_name": "Python 3",
   "language": "python",
   "name": "python3"
  },
  "language_info": {
   "codemirror_mode": {
    "name": "ipython",
    "version": 3
   },
   "file_extension": ".py",
   "mimetype": "text/x-python",
   "name": "python",
   "nbconvert_exporter": "python",
   "pygments_lexer": "ipython3",
   "version": "3.7.1"
  }
 },
 "nbformat": 4,
 "nbformat_minor": 2
}
