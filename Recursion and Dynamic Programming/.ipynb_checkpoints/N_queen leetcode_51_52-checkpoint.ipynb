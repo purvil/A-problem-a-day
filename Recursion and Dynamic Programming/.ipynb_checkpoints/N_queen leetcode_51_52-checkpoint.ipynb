{
 "cells": [
  {
   "cell_type": "markdown",
   "metadata": {},
   "source": [
    "The n-queens puzzle is the problem of placing n queens on an n×n chessboard such that no two queens attack each other.\n",
    "Given an integer n, return all distinct solutions to the n-queens puzzle.\n",
    "\n",
    "Each solution contains a distinct board configuration of the n-queens' placement, where 'Q' and '.' both indicate a queen and an empty space respectively."
   ]
  },
  {
   "cell_type": "markdown",
   "metadata": {},
   "source": [
    "![](images/n_queen.PNG)"
   ]
  },
  {
   "cell_type": "code",
   "execution_count": 2,
   "metadata": {},
   "outputs": [],
   "source": [
    "class Solution:\n",
    "    def solveNQueens(self, n: int):\n",
    "        def could_place(row, col):\n",
    "            return not (cols[col] + hill_diagonal[row - col] + dale_diagonal[row + col])\n",
    "        \n",
    "        def place_queen(row, col):\n",
    "            queens.add((row,col))\n",
    "            cols[col] = 1\n",
    "            hill_diagonal[row-col] = 1\n",
    "            dale_diagonal[row + col] = 1\n",
    "        \n",
    "        def remove_queen(row, col):\n",
    "            queens.remove((row,col))\n",
    "            cols[col] = 0\n",
    "            hill_diagonal[row-col] = 0\n",
    "            dale_diagonal[row + col] = 0\n",
    "        \n",
    "        def add_solution():\n",
    "            solution = []\n",
    "            for _, col in sorted(queens):\n",
    "                solution.append('.' * col + 'Q' + '.' * (n - col - 1))\n",
    "            output.append(solution)\n",
    "        \n",
    "        def backtrack(row = 0):\n",
    "            for col in range(n):\n",
    "                if could_place(row, col):\n",
    "                    place_queen(row,col)\n",
    "                    if row + 1 == n:\n",
    "                        add_solution()\n",
    "                    else:\n",
    "                        backtrack(row+1)\n",
    "                    remove_queen(row, col)\n",
    "                    \n",
    "        \n",
    "        \n",
    "        cols = [0] * n\n",
    "        hill_diagonal = [0] * ((2 * n) - 1)\n",
    "        dale_diagonal = [0] * ((2 * n) - 1)\n",
    "        queens = set()\n",
    "        output = []\n",
    "        backtrack()\n",
    "        return output\n",
    "        "
   ]
  },
  {
   "cell_type": "markdown",
   "metadata": {},
   "source": [
    "* Time complexity O(N!), for first queen N possibilities, for 2nd queen N-2,  for 3rd (N-4) => N!\n",
    "\n",
    "* space complexity O(N) to keep info of diagonals and rows"
   ]
  },
  {
   "cell_type": "markdown",
   "metadata": {},
   "source": [
    "### Count only"
   ]
  },
  {
   "cell_type": "code",
   "execution_count": 3,
   "metadata": {},
   "outputs": [],
   "source": [
    "class Solution:\n",
    "    def totalNQueens(self, n: int) -> int:\n",
    "        def could_place(row, col):\n",
    "            return not (cols[col] + hill_diagonal[row - col] + dale_diagonal[row + col])\n",
    "        \n",
    "        def remove_queen(row, col):\n",
    "            cols[col] = 0\n",
    "            hill_diagonal[row-col] = 0\n",
    "            dale_diagonal[row + col] = 0\n",
    "            \n",
    "        def place_queen(row, col):\n",
    "            cols[col] = 1\n",
    "            hill_diagonal[row-col] = 1\n",
    "            dale_diagonal[row + col] = 1\n",
    "            \n",
    "        def backtrack(row = 0, count = 0):\n",
    "            for col in range(n):\n",
    "                if could_place(row, col):\n",
    "                    place_queen(row, col)\n",
    "                    if row + 1 == n:\n",
    "                        count += 1\n",
    "                    else:\n",
    "                        count = backtrack(row + 1, count)\n",
    "                    remove_queen(row, col)   \n",
    "            return count\n",
    "        \n",
    "        cols = [0] * n\n",
    "        hill_diagonal = [0] * (2 * n - 1)\n",
    "        dale_diagonal = [0] * (2 * n - 1)\n",
    "        return backtrack()"
   ]
  },
  {
   "cell_type": "code",
   "execution_count": null,
   "metadata": {},
   "outputs": [],
   "source": []
  }
 ],
 "metadata": {
  "kernelspec": {
   "display_name": "Python 3",
   "language": "python",
   "name": "python3"
  },
  "language_info": {
   "codemirror_mode": {
    "name": "ipython",
    "version": 3
   },
   "file_extension": ".py",
   "mimetype": "text/x-python",
   "name": "python",
   "nbconvert_exporter": "python",
   "pygments_lexer": "ipython3",
   "version": "3.7.1"
  }
 },
 "nbformat": 4,
 "nbformat_minor": 2
}
