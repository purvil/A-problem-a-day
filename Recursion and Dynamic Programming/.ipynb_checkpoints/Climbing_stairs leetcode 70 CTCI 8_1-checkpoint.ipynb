{
 "cells": [
  {
   "cell_type": "markdown",
   "metadata": {},
   "source": [
    "You are climbing a stair case. It takes n steps to reach to the top.\n",
    "\n",
    "Each time you can either climb 1 or 2 steps. In how many distinct ways can you climb to the top?\n",
    "\n",
    "Note: Given n will be a positive integer.\n",
    "\n",
    "```\n",
    "Input: 2\n",
    "Output: 2\n",
    "Explanation: There are two ways to climb to the top.\n",
    "1. 1 step + 1 step\n",
    "2. 2 steps\n",
    "\n",
    "Input: 3\n",
    "Output: 3\n",
    "Explanation: There are three ways to climb to the top.\n",
    "1. 1 step + 1 step + 1 step\n",
    "2. 1 step + 2 steps\n",
    "3. 2 steps + 1 step\n",
    "```"
   ]
  },
  {
   "cell_type": "markdown",
   "metadata": {},
   "source": [
    "### Recursive"
   ]
  },
  {
   "cell_type": "code",
   "execution_count": 1,
   "metadata": {},
   "outputs": [],
   "source": [
    "def climbStairs(self, n: int) -> int:\n",
    "    memo = {}\n",
    "    def helper(n):\n",
    "        if n <= 2:\n",
    "            return n\n",
    "        if  n not in memo:\n",
    "            memo[n] = helper(n - 1) + helper(n - 2)\n",
    "        return memo[n]\n",
    "    return helper(n)"
   ]
  },
  {
   "cell_type": "markdown",
   "metadata": {},
   "source": [
    "### Iterative SPECIAL_CASE"
   ]
  },
  {
   "cell_type": "code",
   "execution_count": 3,
   "metadata": {},
   "outputs": [],
   "source": [
    "def climbStairs(self, n: int) -> int:\n",
    "    if n <= 2:\n",
    "        return n\n",
    "    dp = [0] * (n + 1)\n",
    "    dp[1] = 1\n",
    "    dp[2] = 2\n",
    "        \n",
    "    for i in range(3, n + 1):\n",
    "        dp[i] = dp[i-1] + dp[i-2]\n",
    "    return dp[-1]"
   ]
  },
  {
   "cell_type": "code",
   "execution_count": 5,
   "metadata": {},
   "outputs": [],
   "source": [
    "def climbStairs(self, n: int) -> int:\n",
    "    if n <= 2:\n",
    "        return n\n",
    "    a, b, ans = 1, 2, 0\n",
    "        \n",
    "    for i in range(3, n+1):\n",
    "        ans = a + b\n",
    "        a = b\n",
    "        b = ans\n",
    "    return ans"
   ]
  },
  {
   "cell_type": "code",
   "execution_count": null,
   "metadata": {},
   "outputs": [],
   "source": []
  }
 ],
 "metadata": {
  "kernelspec": {
   "display_name": "Python 3",
   "language": "python",
   "name": "python3"
  },
  "language_info": {
   "codemirror_mode": {
    "name": "ipython",
    "version": 3
   },
   "file_extension": ".py",
   "mimetype": "text/x-python",
   "name": "python",
   "nbconvert_exporter": "python",
   "pygments_lexer": "ipython3",
   "version": "3.7.1"
  }
 },
 "nbformat": 4,
 "nbformat_minor": 2
}
