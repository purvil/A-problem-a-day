{
 "cells": [
  {
   "cell_type": "code",
   "execution_count": 5,
   "metadata": {},
   "outputs": [],
   "source": [
    "def fib(num):\n",
    "    if num < 0:\n",
    "        return -1\n",
    "    if num <= 1:\n",
    "        return num\n",
    "    return fib(num-1) + fib(num-2)"
   ]
  },
  {
   "cell_type": "code",
   "execution_count": 6,
   "metadata": {},
   "outputs": [
    {
     "data": {
      "text/plain": [
       "5"
      ]
     },
     "execution_count": 6,
     "metadata": {},
     "output_type": "execute_result"
    }
   ],
   "source": [
    "fib(5)"
   ]
  },
  {
   "cell_type": "markdown",
   "metadata": {},
   "source": [
    "* 2^n time complexity as we are making 2 recursion call in each function"
   ]
  },
  {
   "cell_type": "markdown",
   "metadata": {},
   "source": [
    "#### Top Down"
   ]
  },
  {
   "cell_type": "code",
   "execution_count": 12,
   "metadata": {},
   "outputs": [],
   "source": [
    "def fibTopDown(num):\n",
    "    if num < 0:\n",
    "        return -1\n",
    "    if num <= 1:\n",
    "        return num\n",
    "    dp = [-1] * (num+1)\n",
    "    dp[0] = 0\n",
    "    dp[1] = 1\n",
    "    \n",
    "    return fibTopDownRec(num, dp)\n",
    "\n",
    "def fibTopDownRec(num, dp):\n",
    "    if dp[num] == -1:\n",
    "        dp[num] = fibTopDwnRec(num-1,dp) + fibTopDwnRec(num-2,dp)\n",
    "    return dp[num]    \n",
    "    \n",
    "     "
   ]
  },
  {
   "cell_type": "code",
   "execution_count": 13,
   "metadata": {},
   "outputs": [
    {
     "data": {
      "text/plain": [
       "5"
      ]
     },
     "execution_count": 13,
     "metadata": {},
     "output_type": "execute_result"
    }
   ],
   "source": [
    "fibTopDown(5)"
   ]
  },
  {
   "cell_type": "markdown",
   "metadata": {},
   "source": [
    "#### Bottom up"
   ]
  },
  {
   "cell_type": "code",
   "execution_count": 16,
   "metadata": {},
   "outputs": [],
   "source": [
    "def fibBottomUp(num):\n",
    "    if num < 0:\n",
    "        return -1\n",
    "    if num <= 1:\n",
    "        return num\n",
    "    \n",
    "    dp = [-1] * (num + 1)\n",
    "    dp[0] = 0\n",
    "    dp[1] = 1\n",
    "    \n",
    "    for i in range(2, num+1):\n",
    "        dp[i] = dp[i-1] + dp[i-2]\n",
    "    \n",
    "    return dp[-1]\n",
    "    "
   ]
  },
  {
   "cell_type": "code",
   "execution_count": 17,
   "metadata": {},
   "outputs": [
    {
     "data": {
      "text/plain": [
       "5"
      ]
     },
     "execution_count": 17,
     "metadata": {},
     "output_type": "execute_result"
    }
   ],
   "source": [
    "fibBottomUp(5)"
   ]
  },
  {
   "cell_type": "markdown",
   "metadata": {},
   "source": [
    "## Staircase"
   ]
  },
  {
   "cell_type": "markdown",
   "metadata": {},
   "source": [
    "* Given a stair with ‘n’ steps, implement a method to count how many possible ways are there to reach the top of the staircase, given that, at every step you can either take 1 step, 2 steps, or 3 steps."
   ]
  },
  {
   "cell_type": "code",
   "execution_count": 18,
   "metadata": {},
   "outputs": [],
   "source": [
    "def staircase(n):\n",
    "    if n < 0:\n",
    "        return -1\n",
    "    if n <= 1:\n",
    "        return 1\n",
    "    if n == 2:\n",
    "        return 2\n",
    "    \n",
    "    return staircase(n-1) + staircase(n-2) + staircase(n-3)"
   ]
  },
  {
   "cell_type": "code",
   "execution_count": 21,
   "metadata": {},
   "outputs": [
    {
     "data": {
      "text/plain": [
       "13"
      ]
     },
     "execution_count": 21,
     "metadata": {},
     "output_type": "execute_result"
    }
   ],
   "source": [
    "staircase(5)"
   ]
  },
  {
   "cell_type": "markdown",
   "metadata": {},
   "source": [
    "* O(3^N) time and O(N) is space complexity"
   ]
  },
  {
   "cell_type": "code",
   "execution_count": 32,
   "metadata": {},
   "outputs": [],
   "source": [
    "def stairCaseTopDown(n):\n",
    "    if n < 0:\n",
    "        return -1\n",
    "    dp = [-1] * (n+1)\n",
    "    \n",
    "    return stairCaseTopDownRec(n, dp)\n",
    "\n",
    "def stairCaseTopDownRec(n, dp):\n",
    "    if dp[n] != -1:\n",
    "        return dp[n]\n",
    "    if n <= 1:\n",
    "        dp[n] = 1\n",
    "    elif n == 2:\n",
    "        dp[n] = 2\n",
    "    else:\n",
    "        dp[n] = stairCaseTopDownRec(n-1, dp) + stairCaseTopDownRec(n-2, dp) + stairCaseTopDownRec(n-3, dp)\n",
    "    return dp[n]"
   ]
  },
  {
   "cell_type": "code",
   "execution_count": 33,
   "metadata": {},
   "outputs": [
    {
     "data": {
      "text/plain": [
       "13"
      ]
     },
     "execution_count": 33,
     "metadata": {},
     "output_type": "execute_result"
    }
   ],
   "source": [
    "stairCaseTopDown(5)"
   ]
  },
  {
   "cell_type": "markdown",
   "metadata": {},
   "source": [
    "#### Bottom up"
   ]
  },
  {
   "cell_type": "code",
   "execution_count": 34,
   "metadata": {},
   "outputs": [],
   "source": [
    "def stairCaseBottomUp(n):\n",
    "    if n < 0:\n",
    "        return -1\n",
    "    if n <= 1:\n",
    "        return 1\n",
    "    if n == 2:\n",
    "        return 2\n",
    "    onestep, twostep, threestep = 1, 1, 2\n",
    "    \n",
    "    for i in range(3, n+1):\n",
    "        ans = onestep + twostep + threestep\n",
    "        \n",
    "        onestep = twostep\n",
    "        twostep = threestep\n",
    "        threestep = ans\n",
    "    return threestep"
   ]
  },
  {
   "cell_type": "code",
   "execution_count": 35,
   "metadata": {},
   "outputs": [
    {
     "data": {
      "text/plain": [
       "13"
      ]
     },
     "execution_count": 35,
     "metadata": {},
     "output_type": "execute_result"
    }
   ],
   "source": [
    "stairCaseBottomUp(5)"
   ]
  },
  {
   "cell_type": "markdown",
   "metadata": {},
   "source": [
    "## Number factors\n",
    "* Given a number ‘n’, implement a method to count how many possible ways there are to express ‘n’ as the sum of 1, 3, or 4."
   ]
  },
  {
   "cell_type": "markdown",
   "metadata": {},
   "source": [
    "* At a particular time, i can either use 1, 3 or 4. So subtract that and try to find a other number"
   ]
  },
  {
   "cell_type": "code",
   "execution_count": 36,
   "metadata": {},
   "outputs": [],
   "source": [
    "def NumberFactor(n):\n",
    "    if n == 0:\n",
    "        return 1\n",
    "    if n == 1:\n",
    "        return 1\n",
    "    if n== 2:\n",
    "        return 1\n",
    "    if n == 3:\n",
    "        return 2\n",
    "    return NumberFactor(n-1) + NumberFactor(n-3) + NumberFactor(n-4)\n",
    "\n",
    "    "
   ]
  },
  {
   "cell_type": "code",
   "execution_count": 39,
   "metadata": {},
   "outputs": [
    {
     "data": {
      "text/plain": [
       "9"
      ]
     },
     "execution_count": 39,
     "metadata": {},
     "output_type": "execute_result"
    }
   ],
   "source": [
    "NumberFactor(6)"
   ]
  },
  {
   "cell_type": "code",
   "execution_count": 42,
   "metadata": {},
   "outputs": [],
   "source": [
    "def NumberFactorTopDown(n):\n",
    "    if n < 0:\n",
    "        return -1\n",
    "    if n <= 2:\n",
    "        return 1\n",
    "    if n == 3:\n",
    "        return 2\n",
    "    dp = [-1] * (n+1)\n",
    "    dp[0], dp[1], dp[2], dp[3]  = 1,1,1,2\n",
    "    \n",
    "    return NumberFactorTopDownRec(n, dp)\n",
    "\n",
    "def NumberFactorTopDownRec(n, dp):\n",
    "    if dp[n] == -1:\n",
    "        dp[n] = NumberFactorTopDownRec(n-1, dp) + NumberFactorTopDownRec(n-3, dp) +NumberFactorTopDownRec(n-4, dp)\n",
    "    return dp[n]"
   ]
  },
  {
   "cell_type": "code",
   "execution_count": 43,
   "metadata": {},
   "outputs": [
    {
     "data": {
      "text/plain": [
       "9"
      ]
     },
     "execution_count": 43,
     "metadata": {},
     "output_type": "execute_result"
    }
   ],
   "source": [
    "NumberFactorTopDown(6)"
   ]
  },
  {
   "cell_type": "markdown",
   "metadata": {},
   "source": [
    "#### Bottomuo"
   ]
  },
  {
   "cell_type": "code",
   "execution_count": 44,
   "metadata": {},
   "outputs": [],
   "source": [
    "def NumberFactorBottomUp(n):\n",
    "    if n < 0:\n",
    "        return -1\n",
    "    if n <= 2:\n",
    "        return 1\n",
    "    if n == 3:\n",
    "        return 2\n",
    "    dp = [-1] * (n+1)\n",
    "    dp[0], dp[1], dp[2], dp[3]  = 1,1,1,2\n",
    "    \n",
    "    for i in range(4, n+1):\n",
    "        dp[i] = dp[i-1] + dp[i-3] + dp[i-4] \n",
    "    return dp[-1]"
   ]
  },
  {
   "cell_type": "code",
   "execution_count": 45,
   "metadata": {},
   "outputs": [
    {
     "data": {
      "text/plain": [
       "9"
      ]
     },
     "execution_count": 45,
     "metadata": {},
     "output_type": "execute_result"
    }
   ],
   "source": [
    "NumberFactorBottomUp(6)"
   ]
  },
  {
   "cell_type": "markdown",
   "metadata": {},
   "source": [
    "## Minimum jumps to reach the end"
   ]
  },
  {
   "cell_type": "markdown",
   "metadata": {},
   "source": [
    "* Given an array of positive numbers, where each element represents the max number of jumps that can be made forward from that element, write a program to find the minimum number of jumps needed to reach the end of the array (starting from the first element). If an element is 0, then we cannot move through that element."
   ]
  },
  {
   "cell_type": "markdown",
   "metadata": {},
   "source": [
    "* Start with index 0 and try all options, If value at current index p, we try to jump from 1 to p and even inside it recursively"
   ]
  },
  {
   "cell_type": "code",
   "execution_count": null,
   "metadata": {},
   "outputs": [],
   "source": [
    "def minJump(lst):\n",
    "    return minJumpRec(lst, 0)\n",
    "\n",
    "def minJumpRec(lst, curIdx):\n",
    "    "
   ]
  },
  {
   "cell_type": "code",
   "execution_count": null,
   "metadata": {},
   "outputs": [],
   "source": []
  },
  {
   "cell_type": "code",
   "execution_count": 74,
   "metadata": {},
   "outputs": [],
   "source": [
    "def minJump(lst):\n",
    "    farthestJump = 0 \n",
    "    curJump = 0\n",
    "    ans = 0\n",
    "    for i in range(len(lst)):\n",
    "        ladder = i + lst[i] # using cur jump I can reach upto the ladder\n",
    "        if farthestJump < ladder:\n",
    "            farthestJump = ladder\n",
    "        # are we out of step?\n",
    "        if i == curJump and i < len(lst) - 1:\n",
    "            curJump = farthestJump\n",
    "            ans += 1\n",
    "    return ans"
   ]
  },
  {
   "cell_type": "code",
   "execution_count": 75,
   "metadata": {},
   "outputs": [
    {
     "data": {
      "text/plain": [
       "3"
      ]
     },
     "execution_count": 75,
     "metadata": {},
     "output_type": "execute_result"
    }
   ],
   "source": [
    "minJump([2, 1, 1, 1, 4])"
   ]
  },
  {
   "cell_type": "code",
   "execution_count": 76,
   "metadata": {},
   "outputs": [
    {
     "data": {
      "text/plain": [
       "4"
      ]
     },
     "execution_count": 76,
     "metadata": {},
     "output_type": "execute_result"
    }
   ],
   "source": [
    "minJump([1, 1, 3, 6, 9, 3, 0, 1, 3])"
   ]
  },
  {
   "cell_type": "code",
   "execution_count": null,
   "metadata": {},
   "outputs": [],
   "source": []
  },
  {
   "cell_type": "code",
   "execution_count": null,
   "metadata": {},
   "outputs": [],
   "source": []
  }
 ],
 "metadata": {
  "kernelspec": {
   "display_name": "Python 3",
   "language": "python",
   "name": "python3"
  },
  "language_info": {
   "codemirror_mode": {
    "name": "ipython",
    "version": 3
   },
   "file_extension": ".py",
   "mimetype": "text/x-python",
   "name": "python",
   "nbconvert_exporter": "python",
   "pygments_lexer": "ipython3",
   "version": "3.7.1"
  },
  "varInspector": {
   "cols": {
    "lenName": 16,
    "lenType": 16,
    "lenVar": 40
   },
   "kernels_config": {
    "python": {
     "delete_cmd_postfix": "",
     "delete_cmd_prefix": "del ",
     "library": "var_list.py",
     "varRefreshCmd": "print(var_dic_list())"
    },
    "r": {
     "delete_cmd_postfix": ") ",
     "delete_cmd_prefix": "rm(",
     "library": "var_list.r",
     "varRefreshCmd": "cat(var_dic_list()) "
    }
   },
   "types_to_exclude": [
    "module",
    "function",
    "builtin_function_or_method",
    "instance",
    "_Feature"
   ],
   "window_display": false
  }
 },
 "nbformat": 4,
 "nbformat_minor": 2
}
