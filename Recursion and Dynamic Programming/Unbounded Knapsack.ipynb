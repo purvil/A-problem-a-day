{
 "cells": [
  {
   "cell_type": "markdown",
   "metadata": {},
   "source": [
    "* In knapsack we can only use item once, here we can use unlimited times"
   ]
  },
  {
   "cell_type": "markdown",
   "metadata": {},
   "source": [
    "* Given the weights and profits of ‘N’ items, we are asked to put these items in a knapsack which has a capacity ‘C’. The goal is to get the maximum profit from the items in the knapsack. \n",
    "* Items: { Apple, Orange, Melon }\n",
    "* Weights: { 1, 2, 3 }\n",
    "* Profits: { 15, 20, 50 }\n",
    "* Knapsack capacity: 5"
   ]
  },
  {
   "cell_type": "markdown",
   "metadata": {},
   "source": [
    "* 5 Apples (total weight 5) => 75 profit\n",
    "* 1 Apple + 2 Oranges (total weight 5) => 55 profit\n",
    "* 2 Apples + 1 Melon (total weight 5) => 80 profit\n",
    "* 1 Orange + 1 Melon (total weight 5) => 70 profit"
   ]
  },
  {
   "cell_type": "markdown",
   "metadata": {},
   "source": [
    "* The only difference between the Knapsack problem and this one is that, after including the item, we recursively call to process all the items (including the current item). In 0/1 Knapsack, however, we recursively call to process the remaining items."
   ]
  },
  {
   "cell_type": "code",
   "execution_count": 9,
   "metadata": {},
   "outputs": [],
   "source": [
    "def maxProfit(profits, weight, capacity):\n",
    "    if capacity == 0:\n",
    "        return 0\n",
    "    if not profits or not weight:\n",
    "        return 0\n",
    "    if len(profits) != len(weight):\n",
    "        return 0\n",
    "    \n",
    "    return maxProfitRec(profits, weight, capacity, 0)\n",
    "\n",
    "def maxProfitRec(profit, weight, capacity, curIdx):\n",
    "    if curIdx >= len(profit):\n",
    "        return 0\n",
    "    if capacity <= 0:\n",
    "        return 0\n",
    "    \n",
    "    # include curEl\n",
    "    profit1 = 0\n",
    "    if weight[curIdx] <= capacity:\n",
    "        profit1 = profit[curIdx] + maxProfitRec(profit, weight, capacity - weight[curIdx], curIdx) # see the diff in this call\n",
    "    \n",
    "    # exclude curEl\n",
    "    profit2 = maxProfitRec(profit, weight, capacity, curIdx + 1)\n",
    "    \n",
    "    return max(profit1, profit2)"
   ]
  },
  {
   "cell_type": "code",
   "execution_count": 12,
   "metadata": {},
   "outputs": [
    {
     "data": {
      "text/plain": [
       "140"
      ]
     },
     "execution_count": 12,
     "metadata": {},
     "output_type": "execute_result"
    }
   ],
   "source": [
    "maxProfit([15, 50, 60, 90], [1, 3, 4, 5], 8)"
   ]
  },
  {
   "cell_type": "code",
   "execution_count": 14,
   "metadata": {},
   "outputs": [
    {
     "data": {
      "text/plain": [
       "105"
      ]
     },
     "execution_count": 14,
     "metadata": {},
     "output_type": "execute_result"
    }
   ],
   "source": [
    "maxProfit([15, 50, 60, 90], [1, 3, 4, 5], 6)"
   ]
  },
  {
   "cell_type": "markdown",
   "metadata": {},
   "source": [
    "* O(2^(N+c)) time complexity\n",
    "* O(N+C) is the recursion memory"
   ]
  },
  {
   "cell_type": "markdown",
   "metadata": {},
   "source": [
    "#### Top Down "
   ]
  },
  {
   "cell_type": "code",
   "execution_count": 24,
   "metadata": {},
   "outputs": [],
   "source": [
    "def maxProfitTopDown(profits, weights, capacity):\n",
    "    if not profits or not weights:\n",
    "        return 0\n",
    "    if len(profits) != len(weights):\n",
    "        return 0\n",
    "    if capacity <= 0:\n",
    "        return 0\n",
    "    n = len(weights)\n",
    "    dp = [[-1 for x in range(capacity+1)] for y in range(n)]\n",
    "    \n",
    "    return maxProfitTopDownRec(profits, weights, capacity, 0, dp)\n",
    "\n",
    "def maxProfitTopDownRec(profits, weights, capacity, curIdx, dp):\n",
    "    if curIdx >= len(profits):\n",
    "        return 0\n",
    "    if capacity <= 0:\n",
    "        return 0\n",
    "    if dp[curIdx][capacity] == -1:\n",
    "        profit1 = 0\n",
    "        if weights[curIdx] <= capacity:\n",
    "            profit1 = profits[curIdx] + maxProfitTopDownRec(profits, weights, capacity - weights[curIdx], curIdx, dp)\n",
    "        \n",
    "        profit2 = maxProfitTopDownRec(profits, weights, capacity, curIdx+1, dp)\n",
    "        dp[curIdx][capacity] = max(profit1, profit2)\n",
    "    return dp[curIdx][capacity]\n",
    "    "
   ]
  },
  {
   "cell_type": "code",
   "execution_count": 25,
   "metadata": {},
   "outputs": [
    {
     "data": {
      "text/plain": [
       "140"
      ]
     },
     "execution_count": 25,
     "metadata": {},
     "output_type": "execute_result"
    }
   ],
   "source": [
    "maxProfitTopDown([15, 50, 60, 90], [1, 3, 4, 5], 8)"
   ]
  },
  {
   "cell_type": "code",
   "execution_count": 26,
   "metadata": {},
   "outputs": [
    {
     "data": {
      "text/plain": [
       "105"
      ]
     },
     "execution_count": 26,
     "metadata": {},
     "output_type": "execute_result"
    }
   ],
   "source": [
    "maxProfitTopDown([15, 50, 60, 90], [1, 3, 4, 5], 6)"
   ]
  },
  {
   "cell_type": "markdown",
   "metadata": {},
   "source": [
    "* Time O(N*C)\n",
    "* Space O(N*C) and O(N) for rec call"
   ]
  },
  {
   "cell_type": "markdown",
   "metadata": {},
   "source": [
    "#### Bottom up"
   ]
  },
  {
   "cell_type": "code",
   "execution_count": 44,
   "metadata": {},
   "outputs": [],
   "source": [
    "def maxProfitBottomUp(profits, weights, capacity):\n",
    "    if not profits or not weights:\n",
    "        return 0\n",
    "    if len(profits) != len(weights):\n",
    "        return 0\n",
    "    if capacity <= 0:\n",
    "        return 0\n",
    "    \n",
    "    n = len(profits)\n",
    "    \n",
    "    dp = [[-1 for x in range(capacity + 1)] for y in range(n)]\n",
    "    # Handle First col\n",
    "    for i in range(n):\n",
    "        dp[i][0] = 0\n",
    "    \n",
    "        \n",
    "    for curIdx in range(n):\n",
    "        for c in range(1, capacity + 1):\n",
    "            profit1, profit2 = 0, 0\n",
    "            if weights[curIdx] <= c:\n",
    "                profit1 = profits[curIdx] + dp[curIdx][c - weights[curIdx]]\n",
    "            profit2 = dp[curIdx-1][c]\n",
    "            dp[curIdx][c] = max(profit1, profit2)\n",
    "    print(dp)\n",
    "    return dp[n-1][capacity]"
   ]
  },
  {
   "cell_type": "code",
   "execution_count": 45,
   "metadata": {},
   "outputs": [
    {
     "name": "stdout",
     "output_type": "stream",
     "text": [
      "[[0, 15, 30, 45, 60, 75, 90], [0, 15, 30, 50, 65, 80, 100], [0, 15, 30, 50, 65, 80, 100], [0, 15, 30, 50, 65, 90, 105]]\n"
     ]
    },
    {
     "data": {
      "text/plain": [
       "105"
      ]
     },
     "execution_count": 45,
     "metadata": {},
     "output_type": "execute_result"
    }
   ],
   "source": [
    "maxProfitBottomUp([15, 50, 60, 90], [1, 3, 4, 5], 6)"
   ]
  },
  {
   "cell_type": "markdown",
   "metadata": {},
   "source": [
    "#### Find items in the knapsack"
   ]
  },
  {
   "cell_type": "code",
   "execution_count": 59,
   "metadata": {},
   "outputs": [],
   "source": [
    "def knapsackItems(profits,weights, capacity):\n",
    "    if not weights or not profits or len(weights) != len(profits) or capacity <= 0:\n",
    "        return []\n",
    "    n = len(weights)\n",
    "    dp = [[-1 for x in range(capacity + 1)] for y in range(n)]\n",
    "    \n",
    "    # for capacity 0 there is no profit\n",
    "    for i in range(n):\n",
    "        dp[i][0] = 0\n",
    "        \n",
    "    for i in range(n):\n",
    "        for c in range(1, (capacity + 1)):\n",
    "            profit1, profit2 = 0, 0\n",
    "            if weights[i] <= c:\n",
    "                profit1 = profits[i] + dp[i][c-weights[i]]\n",
    "            profit2 = dp[i-1][c]\n",
    "            \n",
    "            dp[i][c] = max(profit1, profit2)\n",
    "    row, col = n-1, capacity\n",
    "    cur_val = dp[row][col]\n",
    "    knapsack = []\n",
    "    while cur_val:\n",
    "        while row != 0 and dp[row][col] == dp[row-1][col]:\n",
    "            row -= 1\n",
    "        knapsack.append(row)\n",
    "        # search for col:\n",
    "        p = dp[row][col] - profits[row]\n",
    "        \n",
    "        for i in range(col, -1, -1):\n",
    "            if dp[row][i] == p:\n",
    "                break\n",
    "        cur_val = dp[row][i]\n",
    "        col = i\n",
    "    return knapsack\n",
    "    \n",
    "    "
   ]
  },
  {
   "cell_type": "code",
   "execution_count": 60,
   "metadata": {},
   "outputs": [
    {
     "data": {
      "text/plain": [
       "[3, 1]"
      ]
     },
     "execution_count": 60,
     "metadata": {},
     "output_type": "execute_result"
    }
   ],
   "source": [
    "knapsackItems([15, 50, 60, 90], [1, 3, 4, 5], 8)"
   ]
  },
  {
   "cell_type": "markdown",
   "metadata": {},
   "source": [
    "## Rod Cutting\n",
    "* Given a rod of length ‘n’, we are asked to cut the rod and sell the pieces in a way that will maximize the profit. We are also given the price of every piece of length ‘i’ where ‘1 <= i <= n’."
   ]
  },
  {
   "cell_type": "markdown",
   "metadata": {},
   "source": [
    "* Lengths: [1, 2, 3, 4, 5]\n",
    "* Prices: [2, 6, 7, 10, 13]\n",
    "* Rod Length: 5"
   ]
  },
  {
   "cell_type": "code",
   "execution_count": 66,
   "metadata": {},
   "outputs": [],
   "source": [
    "def rodCutting(lengths, prices, length):\n",
    "    if not lengths or not prices or len(lengths) != len(prices) or length <= 0:\n",
    "        return 0\n",
    "    \n",
    "    return rodCuttingRec(lengths, prices, length, 0)\n",
    "\n",
    "def rodCuttingRec(lengths, prices, length, curIdx):\n",
    "    if length == 0 or curIdx >= len(lengths):\n",
    "        return 0\n",
    "    \n",
    "    price1, price2 = 0, 0 \n",
    "    # Include curIdx rod\n",
    "    if lengths[curIdx] <= length:\n",
    "        price1 = prices[curIdx] + rodCuttingRec(lengths, prices, length - lengths[curIdx], curIdx)\n",
    "    # exclude\n",
    "    price2 = rodCuttingRec(lengths, prices, length, curIdx + 1)\n",
    "    \n",
    "    return max(price1, price2)"
   ]
  },
  {
   "cell_type": "code",
   "execution_count": 67,
   "metadata": {},
   "outputs": [
    {
     "data": {
      "text/plain": [
       "14"
      ]
     },
     "execution_count": 67,
     "metadata": {},
     "output_type": "execute_result"
    }
   ],
   "source": [
    "rodCutting([1, 2, 3, 4, 5], [2, 6, 7, 10, 13], 5)"
   ]
  },
  {
   "cell_type": "markdown",
   "metadata": {},
   "source": [
    "#### Top down"
   ]
  },
  {
   "cell_type": "code",
   "execution_count": 81,
   "metadata": {},
   "outputs": [],
   "source": [
    "def rodCuttingTopDown(lengths, prices, length):\n",
    "    if not lengths or not prices or len(lengths) != len(prices) or length <= 0:\n",
    "        return 0\n",
    "    n = len(lengths)\n",
    "    dp = [[-1 for x in range (length + 1)] for y in range(n)]\n",
    "    \n",
    "    return rodCuttingTopDownRec(lengths, prices, length, 0, dp)\n",
    "\n",
    "def rodCuttingTopDownRec(lengths, prices, length, curIdx, dp):\n",
    "    if curIdx >= len(lengths) or length <= 0:\n",
    "        return 0\n",
    "    \n",
    "    if dp[curIdx][length] == -1:\n",
    "        price1, price2 = 0, 0\n",
    "        \n",
    "        if lengths[curIdx] <= length:\n",
    "            price1 = prices[curIdx] + rodCuttingTopDownRec(lengths, prices, length - lengths[curIdx], curIdx, dp)\n",
    "        price2 = rodCuttingTopDownRec(lengths, prices, length, curIdx+1, dp)\n",
    "        dp[curIdx][length] = max(price1, price2)\n",
    "    return dp[curIdx][length]"
   ]
  },
  {
   "cell_type": "code",
   "execution_count": 82,
   "metadata": {},
   "outputs": [
    {
     "data": {
      "text/plain": [
       "14"
      ]
     },
     "execution_count": 82,
     "metadata": {},
     "output_type": "execute_result"
    }
   ],
   "source": [
    "rodCuttingTopDown([1, 2, 3, 4, 5], [2, 6, 7, 10, 13], 5)"
   ]
  },
  {
   "cell_type": "markdown",
   "metadata": {},
   "source": [
    "#### Bottom up"
   ]
  },
  {
   "cell_type": "code",
   "execution_count": 97,
   "metadata": {},
   "outputs": [],
   "source": [
    "def rodCuttingBottomUp(lengths, prices, length):\n",
    "    if not lengths or not prices or len(lengths) != len(prices) or length <= 0:\n",
    "        return 0\n",
    "    \n",
    "    n = len(lengths)\n",
    "    \n",
    "    dp = [[-1 for x in range(length+1)] for y in range(n)]\n",
    "    \n",
    "    for i in range(n):\n",
    "        dp[i][0] = 0\n",
    "        \n",
    "    for i in range(n):\n",
    "        for l in range(1, length+1):\n",
    "            price1, price2 = 0, 0\n",
    "            if lengths[i] <= l:\n",
    "                price1 = prices[i] + dp[i][l - lengths[i]]\n",
    "            price2 = dp[i-1][l]\n",
    "            dp[i][l] = max(price1, price2)\n",
    "    print(dp)\n",
    "    return dp[n-1][length]"
   ]
  },
  {
   "cell_type": "code",
   "execution_count": 98,
   "metadata": {},
   "outputs": [
    {
     "name": "stdout",
     "output_type": "stream",
     "text": [
      "[[0, 2, 4, 6, 8, 10], [0, 2, 6, 8, 12, 14], [0, 2, 6, 8, 12, 14], [0, 2, 6, 8, 12, 14], [0, 2, 6, 8, 12, 14]]\n"
     ]
    },
    {
     "data": {
      "text/plain": [
       "14"
      ]
     },
     "execution_count": 98,
     "metadata": {},
     "output_type": "execute_result"
    }
   ],
   "source": [
    "rodCuttingBottomUp([1, 2, 3, 4, 5], [2, 6, 7, 10, 13], 5)"
   ]
  },
  {
   "cell_type": "code",
   "execution_count": 100,
   "metadata": {},
   "outputs": [],
   "source": [
    "def rodCuttingBottomUpRodLength(lengths, prices, length):\n",
    "    if not lengths or not prices or len(lengths) != len(prices) or length <= 0:\n",
    "        return 0\n",
    "    \n",
    "    n = len(lengths)\n",
    "    \n",
    "    dp = [[-1 for x in range(length+1)] for y in range(n)]\n",
    "    \n",
    "    for i in range(n):\n",
    "        dp[i][0] = 0\n",
    "        \n",
    "    for i in range(n):\n",
    "        for l in range(1, length+1):\n",
    "            price1, price2 = 0, 0\n",
    "            if lengths[i] <= l:\n",
    "                price1 = prices[i] + dp[i][l - lengths[i]]\n",
    "            price2 = dp[i-1][l]\n",
    "            dp[i][l] = max(price1, price2)\n",
    "    print(dp)\n",
    "    return dp[n-1][length]"
   ]
  },
  {
   "cell_type": "code",
   "execution_count": 101,
   "metadata": {},
   "outputs": [
    {
     "name": "stdout",
     "output_type": "stream",
     "text": [
      "[[0, 2, 4, 6, 8, 10], [0, 2, 6, 8, 12, 14], [0, 2, 6, 8, 12, 14], [0, 2, 6, 8, 12, 14], [0, 2, 6, 8, 12, 14]]\n"
     ]
    },
    {
     "data": {
      "text/plain": [
       "14"
      ]
     },
     "execution_count": 101,
     "metadata": {},
     "output_type": "execute_result"
    }
   ],
   "source": [
    "rodCuttingBottomUpRodLength([1, 2, 3, 4, 5], [2, 6, 7, 10, 13], 5)"
   ]
  },
  {
   "cell_type": "code",
   "execution_count": 122,
   "metadata": {},
   "outputs": [],
   "source": [
    "def getRodLength(lengths, prices, length):\n",
    "    if not lengths or not prices or len(prices) != len(lengths) or length <=0:\n",
    "        return []\n",
    "    \n",
    "    n = len(lengths)\n",
    "    \n",
    "    dp = [[-1 for i in range(length+1)] for _ in range(n)]\n",
    "    \n",
    "    for i in range(n):\n",
    "        dp[i][0] = 0\n",
    "        \n",
    "    for i in range(n):\n",
    "        for j in range(1, length + 1):\n",
    "            price1,price2 =0,0\n",
    "            if lengths[i] <= j:\n",
    "                price1 = prices[i] + dp[i][j - lengths[i]]\n",
    "            price2 = dp[i-1][j]\n",
    "            dp[i][j] = max(price1, price2)\n",
    "    \n",
    "    row = n - 1\n",
    "    col = length\n",
    "    cur_val = dp[row][col]\n",
    "    rod = []\n",
    "    while cur_val != 0:\n",
    "        while row != 0 and dp[row][col] == dp[row-1][col]:\n",
    "            row -= 1\n",
    "        rod.append(row)\n",
    "        \n",
    "        p = dp[row][col] - prices[row]\n",
    "        for i in range(col, -1, -1):\n",
    "            if dp[row][i] == p:\n",
    "                break\n",
    "        col = i\n",
    "        cur_val = dp[row][col]\n",
    "    return rod\n",
    "        \n",
    "    "
   ]
  },
  {
   "cell_type": "code",
   "execution_count": 123,
   "metadata": {
    "scrolled": false
   },
   "outputs": [
    {
     "data": {
      "text/plain": [
       "[1, 1, 0]"
      ]
     },
     "execution_count": 123,
     "metadata": {},
     "output_type": "execute_result"
    }
   ],
   "source": [
    "getRodLength([1, 2, 3, 4, 5], [2, 6, 7, 10, 13], 5)"
   ]
  },
  {
   "cell_type": "markdown",
   "metadata": {},
   "source": [
    "## Coin Change"
   ]
  },
  {
   "cell_type": "markdown",
   "metadata": {},
   "source": [
    "* Given an infinite supply of ‘n’ coin denominations and a total money amount, we are asked to find the total number of distinct ways to make up that amount."
   ]
  },
  {
   "cell_type": "code",
   "execution_count": 125,
   "metadata": {},
   "outputs": [],
   "source": [
    "def coinChange(denomination, total):\n",
    "    if total <= 0:\n",
    "        return 0\n",
    "    if not denomination:\n",
    "        return 0\n",
    "    \n",
    "    return coinChangeRec(denomination, total, 0)\n",
    "\n",
    "def coinChangeRec(denomination, total, curIdx):\n",
    "    if total == 0:\n",
    "        return 1\n",
    "    if curIdx >= len(denomination):\n",
    "        return 0\n",
    "    ways = 0\n",
    "    if denomination[curIdx] <= total:\n",
    "         ways += coinChangeRec(denomination, total - denomination[curIdx], curIdx)\n",
    "    ways += coinChangeRec(denomination, total, curIdx+1)\n",
    "    return ways"
   ]
  },
  {
   "cell_type": "code",
   "execution_count": 126,
   "metadata": {},
   "outputs": [
    {
     "data": {
      "text/plain": [
       "5"
      ]
     },
     "execution_count": 126,
     "metadata": {},
     "output_type": "execute_result"
    }
   ],
   "source": [
    "coinChange([1, 2, 3], 5)"
   ]
  },
  {
   "cell_type": "code",
   "execution_count": 129,
   "metadata": {},
   "outputs": [],
   "source": [
    "def coinChangeTopDown(denomination, total):\n",
    "    if not denomination:\n",
    "        return 0\n",
    "    if total <= 0:\n",
    "        return 0\n",
    "    n = len(denomination)\n",
    "    dp = [[-1 for i in range(total + 1)] for j in range(n)]\n",
    "    \n",
    "    return coinChangeTopDownRec(denomination, total, 0, dp)\n",
    "\n",
    "def coinChangeTopDownRec(denomination, total, curIdx, dp):\n",
    "    if total == 0:\n",
    "        return 1\n",
    "    if curIdx >= len(denomination):\n",
    "        return 0\n",
    "    \n",
    "    if dp[curIdx][total] == -1:\n",
    "        ways = 0\n",
    "        if denomination[curIdx] <= total:\n",
    "            ways += coinChangeTopDownRec(denomination, total- denomination[curIdx], curIdx, dp)\n",
    "        ways += coinChangeTopDownRec(denomination, total, curIdx + 1, dp)\n",
    "        dp[curIdx][total] = ways\n",
    "    return dp[curIdx][total]"
   ]
  },
  {
   "cell_type": "code",
   "execution_count": 130,
   "metadata": {},
   "outputs": [
    {
     "data": {
      "text/plain": [
       "5"
      ]
     },
     "execution_count": 130,
     "metadata": {},
     "output_type": "execute_result"
    }
   ],
   "source": [
    "coinChangeTopDown([1, 2, 3], 5)"
   ]
  },
  {
   "cell_type": "code",
   "execution_count": 146,
   "metadata": {},
   "outputs": [],
   "source": [
    "def coinChangeBottomUp(denomination, total):\n",
    "    if not denomination or total <= 0:\n",
    "        return 0\n",
    "    n = len(denomination)\n",
    "    \n",
    "    dp = [[0 for i in range(total + 1)] for j in range(n)]\n",
    "    for i in range(n):\n",
    "        dp[i][0] = 1\n",
    "        \n",
    "    for i in range(n):\n",
    "        for j in range(1, total + 1):\n",
    "            if i > 0:\n",
    "                dp[i][j] = dp[i-1][j]\n",
    "            if denomination[i] <= j:\n",
    "                dp[i][j] += dp[i][j - denomination[i]]\n",
    "    return dp[n-1][total]"
   ]
  },
  {
   "cell_type": "code",
   "execution_count": 147,
   "metadata": {},
   "outputs": [
    {
     "data": {
      "text/plain": [
       "5"
      ]
     },
     "execution_count": 147,
     "metadata": {},
     "output_type": "execute_result"
    }
   ],
   "source": [
    "coinChangeBottomUp([1, 2, 3], 5)"
   ]
  },
  {
   "cell_type": "markdown",
   "metadata": {},
   "source": [
    "## Minimum Coin Change\n"
   ]
  },
  {
   "cell_type": "markdown",
   "metadata": {},
   "source": [
    "* Given an infinite supply of ‘n’ coin denominations and a total money amount, we are asked to find the minimum number of coins needed to make up that amount."
   ]
  },
  {
   "cell_type": "code",
   "execution_count": 180,
   "metadata": {},
   "outputs": [],
   "source": [
    "def minCoinChange(denomination, total):\n",
    "    if not denomination or total <=0:\n",
    "        return 0\n",
    "    \n",
    "    res = minCoinChangeRec(denomination, total, 0)\n",
    "    if res == float('inf'):\n",
    "        return -1\n",
    "    else:\n",
    "        return res\n",
    "\n",
    "def minCoinChangeRec(denomination, total, curIdx):\n",
    "    if total == 0:\n",
    "        return 0\n",
    "    if curIdx >= len(denomination):\n",
    "        return float('inf')\n",
    "    \n",
    "    count1 = float('inf')\n",
    "    if denomination[curIdx] <= total:\n",
    "        res = minCoinChangeRec(denomination, total - denomination[curIdx], curIdx)\n",
    "        if res != float('inf'):\n",
    "            count1 = 1 + res\n",
    "    count2= minCoinChangeRec(denomination, total, curIdx + 1)\n",
    "    return min(count1, count2)"
   ]
  },
  {
   "cell_type": "code",
   "execution_count": 182,
   "metadata": {},
   "outputs": [
    {
     "data": {
      "text/plain": [
       "-1"
      ]
     },
     "execution_count": 182,
     "metadata": {},
     "output_type": "execute_result"
    }
   ],
   "source": [
    "minCoinChange([3,5], 7)"
   ]
  },
  {
   "cell_type": "code",
   "execution_count": 183,
   "metadata": {},
   "outputs": [
    {
     "data": {
      "text/plain": [
       "2"
      ]
     },
     "execution_count": 183,
     "metadata": {},
     "output_type": "execute_result"
    }
   ],
   "source": [
    "minCoinChange([1, 2, 3], 5)"
   ]
  },
  {
   "cell_type": "code",
   "execution_count": 184,
   "metadata": {},
   "outputs": [
    {
     "data": {
      "text/plain": [
       "3"
      ]
     },
     "execution_count": 184,
     "metadata": {},
     "output_type": "execute_result"
    }
   ],
   "source": [
    "minCoinChange([1, 2, 3], 7)"
   ]
  },
  {
   "cell_type": "code",
   "execution_count": 185,
   "metadata": {},
   "outputs": [
    {
     "data": {
      "text/plain": [
       "4"
      ]
     },
     "execution_count": 185,
     "metadata": {},
     "output_type": "execute_result"
    }
   ],
   "source": [
    "minCoinChange([1, 2, 3], 11)"
   ]
  },
  {
   "cell_type": "code",
   "execution_count": 195,
   "metadata": {},
   "outputs": [],
   "source": [
    "def minCoinChangeTopDown(denomination, total):\n",
    "    if not denomination or total <= 0:\n",
    "        return float('inf')\n",
    "    n = len(denomination)\n",
    "    dp = [[-1 for i in range(total + 1)] for j in range(n)]\n",
    "    res = minCoinChangeTopDownRec(denomination, total, 0, dp)\n",
    "    if res == float('inf'):\n",
    "        return -1\n",
    "    return res\n",
    "def minCoinChangeTopDownRec(denomination, total, curIdx, dp):\n",
    "    if total == 0:\n",
    "        return 0\n",
    "    if curIdx >= len(denomination):\n",
    "        return float('inf')\n",
    "    \n",
    "    if dp[curIdx][total] == -1:\n",
    "        path1 = float('inf')\n",
    "        if denomination[curIdx] <= total:\n",
    "            res = minCoinChangeTopDownRec(denomination, total - denomination[curIdx], curIdx, dp)\n",
    "            if res != float('inf'):\n",
    "                path1 = res + 1\n",
    "        path2 = minCoinChangeTopDownRec(denomination, total, curIdx+1, dp)\n",
    "        dp[curIdx][total] = min(path1, path2)\n",
    "    return dp[curIdx][total]\n",
    "        "
   ]
  },
  {
   "cell_type": "code",
   "execution_count": 196,
   "metadata": {},
   "outputs": [
    {
     "data": {
      "text/plain": [
       "-1"
      ]
     },
     "execution_count": 196,
     "metadata": {},
     "output_type": "execute_result"
    }
   ],
   "source": [
    "minCoinChangeTopDown([3,5], 7)"
   ]
  },
  {
   "cell_type": "code",
   "execution_count": 197,
   "metadata": {},
   "outputs": [
    {
     "data": {
      "text/plain": [
       "2"
      ]
     },
     "execution_count": 197,
     "metadata": {},
     "output_type": "execute_result"
    }
   ],
   "source": [
    "minCoinChangeTopDown([1, 2, 3], 5)"
   ]
  },
  {
   "cell_type": "code",
   "execution_count": 198,
   "metadata": {},
   "outputs": [
    {
     "data": {
      "text/plain": [
       "3"
      ]
     },
     "execution_count": 198,
     "metadata": {},
     "output_type": "execute_result"
    }
   ],
   "source": [
    "minCoinChangeTopDown([1, 2, 3], 7)"
   ]
  },
  {
   "cell_type": "code",
   "execution_count": 199,
   "metadata": {},
   "outputs": [
    {
     "data": {
      "text/plain": [
       "4"
      ]
     },
     "execution_count": 199,
     "metadata": {},
     "output_type": "execute_result"
    }
   ],
   "source": [
    "minCoinChangeTopDown([1, 2, 3], 11)"
   ]
  },
  {
   "cell_type": "markdown",
   "metadata": {},
   "source": [
    "#### Bottom up"
   ]
  },
  {
   "cell_type": "code",
   "execution_count": 200,
   "metadata": {},
   "outputs": [],
   "source": [
    "def minCoinChangeBottomUp(denomination, total):\n",
    "    if not denomination or total <= 0:\n",
    "        return float('inf')\n",
    "    n = len(denomination)\n",
    "    dp = [[float('inf') for i in range(total+1)] for j in range(n)]\n",
    "    \n",
    "    for i in range(n):\n",
    "        dp[i][0] = 0 # no coint to make sum 0\n",
    "        \n",
    "    for i in range(n):\n",
    "        for j in range(1, total+1):\n",
    "            if i > 0:\n",
    "                dp[i][j] = dp[i-1][j]\n",
    "            if j >= denomination[i]:\n",
    "                if dp[i][j - denomination[i]] != float('inf'):\n",
    "                    dp[i][j] = min(dp[i][j], dp[i][j - denomination[i]] + 1)\n",
    "    return -1 if dp[n-1][total] == float('inf') else dp[n-1][total]"
   ]
  },
  {
   "cell_type": "code",
   "execution_count": 201,
   "metadata": {},
   "outputs": [
    {
     "data": {
      "text/plain": [
       "-1"
      ]
     },
     "execution_count": 201,
     "metadata": {},
     "output_type": "execute_result"
    }
   ],
   "source": [
    "minCoinChangeBottomUp([3,5], 7)"
   ]
  },
  {
   "cell_type": "code",
   "execution_count": 202,
   "metadata": {},
   "outputs": [
    {
     "data": {
      "text/plain": [
       "2"
      ]
     },
     "execution_count": 202,
     "metadata": {},
     "output_type": "execute_result"
    }
   ],
   "source": [
    "minCoinChangeBottomUp([1, 2, 3], 5)"
   ]
  },
  {
   "cell_type": "code",
   "execution_count": 205,
   "metadata": {},
   "outputs": [
    {
     "data": {
      "text/plain": [
       "3"
      ]
     },
     "execution_count": 205,
     "metadata": {},
     "output_type": "execute_result"
    }
   ],
   "source": [
    "minCoinChangeBottomUp([1, 2, 3], 7)"
   ]
  },
  {
   "cell_type": "code",
   "execution_count": 206,
   "metadata": {},
   "outputs": [
    {
     "data": {
      "text/plain": [
       "4"
      ]
     },
     "execution_count": 206,
     "metadata": {},
     "output_type": "execute_result"
    }
   ],
   "source": [
    "minCoinChangeBottomUp([1, 2, 3], 11)"
   ]
  },
  {
   "cell_type": "markdown",
   "metadata": {},
   "source": [
    "## Maximum Ribbon Cut"
   ]
  },
  {
   "cell_type": "markdown",
   "metadata": {},
   "source": [
    "* We are given a ribbon of length ‘n’ and a set of possible ribbon lengths. Now we need to cut the ribbon into the maximum number of pieces that comply with the above-mentioned possible lengths. Write a method that will return the count of pieces."
   ]
  },
  {
   "cell_type": "code",
   "execution_count": 221,
   "metadata": {},
   "outputs": [],
   "source": [
    "def maxRibbonCut(lengths, l):\n",
    "    if not lengths and l != 0:\n",
    "        return 0\n",
    "    \n",
    "    res = maxRibbonCutRec(lengths, l, 0)\n",
    "    if res == float('-inf'):\n",
    "        return -1\n",
    "    else:\n",
    "        return res\n",
    "def maxRibbonCutRec(lengths, l, curIdx):\n",
    "    if l <= 0:\n",
    "        return 0\n",
    "    if curIdx >= len(lengths):\n",
    "        return float('-inf')\n",
    "    \n",
    "    path1 = float('-inf')\n",
    "    if lengths[curIdx] <= l:\n",
    "        res = maxRibbonCutRec(lengths, l - lengths[curIdx], curIdx)\n",
    "        if res != float('-inf'):\n",
    "            path1 = res + 1\n",
    "    path2 = maxRibbonCutRec(lengths, l, curIdx + 1)\n",
    "    \n",
    "    return max(path1, path2)"
   ]
  },
  {
   "cell_type": "code",
   "execution_count": 222,
   "metadata": {},
   "outputs": [
    {
     "data": {
      "text/plain": [
       "2"
      ]
     },
     "execution_count": 222,
     "metadata": {},
     "output_type": "execute_result"
    }
   ],
   "source": [
    "maxRibbonCut([2, 3, 5], 5)"
   ]
  },
  {
   "cell_type": "code",
   "execution_count": 223,
   "metadata": {},
   "outputs": [
    {
     "data": {
      "text/plain": [
       "3"
      ]
     },
     "execution_count": 223,
     "metadata": {},
     "output_type": "execute_result"
    }
   ],
   "source": [
    "maxRibbonCut([2, 3], 7)"
   ]
  },
  {
   "cell_type": "code",
   "execution_count": 224,
   "metadata": {},
   "outputs": [
    {
     "data": {
      "text/plain": [
       "3"
      ]
     },
     "execution_count": 224,
     "metadata": {},
     "output_type": "execute_result"
    }
   ],
   "source": [
    "maxRibbonCut([3, 5, 7], 13)"
   ]
  },
  {
   "cell_type": "code",
   "execution_count": 225,
   "metadata": {},
   "outputs": [
    {
     "data": {
      "text/plain": [
       "-1"
      ]
     },
     "execution_count": 225,
     "metadata": {},
     "output_type": "execute_result"
    }
   ],
   "source": [
    "maxRibbonCut([3, 5], 7)"
   ]
  },
  {
   "cell_type": "code",
   "execution_count": 237,
   "metadata": {},
   "outputs": [],
   "source": [
    "def maxRibbonTopDown(lengths, l):\n",
    "    if not lengths or l <= 0:\n",
    "        return -1\n",
    "    n = len(lengths)\n",
    "    dp = [[-1 for i in range(l + 1)] for j in range(n)]\n",
    "    \n",
    "    return maxRibbonTopDownRec(lengths, l, 0, dp)\n",
    "    \n",
    "def maxRibbonTopDownRec(lengths, l, curIdx, dp):\n",
    "    if l == 0:\n",
    "        return 0\n",
    "    if curIdx >= len(lengths):\n",
    "        return float('-inf')\n",
    "    \n",
    "    if dp[curIdx][l] == -1:\n",
    "        path1 = float('-inf')\n",
    "        \n",
    "        if lengths[curIdx] <= l:\n",
    "            res = maxRibbonTopDownRec(lengths, l - lengths[curIdx], curIdx, dp)\n",
    "            if res != float('-inf'):\n",
    "                path1 = res + 1\n",
    "        path2 = maxRibbonTopDownRec(lengths, l, curIdx+1, dp)\n",
    "        \n",
    "        dp[curIdx][l] = max(path1, path2)\n",
    "    return dp[curIdx][l]"
   ]
  },
  {
   "cell_type": "code",
   "execution_count": 238,
   "metadata": {},
   "outputs": [
    {
     "data": {
      "text/plain": [
       "2"
      ]
     },
     "execution_count": 238,
     "metadata": {},
     "output_type": "execute_result"
    }
   ],
   "source": [
    "maxRibbonTopDown([2, 3, 5], 5)"
   ]
  },
  {
   "cell_type": "markdown",
   "metadata": {},
   "source": [
    "#### Bottom up"
   ]
  },
  {
   "cell_type": "code",
   "execution_count": 243,
   "metadata": {},
   "outputs": [],
   "source": [
    "def maxRibbonBottomup(lengths, l):\n",
    "    if not lengths and l <= 0:\n",
    "        return -1\n",
    "    \n",
    "    n = len(lengths)\n",
    "    dp = [[float('-inf') for x in range(l+1)] for y in range(n)]\n",
    "    \n",
    "    for i in range(n):\n",
    "        dp[i][0] = 0\n",
    "        \n",
    "    for i in range(n):\n",
    "        for j in range(1, l+1):\n",
    "            if i > 0:\n",
    "                dp[i][j] = dp[i-1][j]\n",
    "            if lengths[i] <= l:\n",
    "                if dp[i][j - lengths[i]] != float('-inf'):\n",
    "                    dp[i][j] = max(dp[i][j], dp[i][j - lengths[i]] + 1)\n",
    "    return dp[n-1][l]"
   ]
  },
  {
   "cell_type": "code",
   "execution_count": 244,
   "metadata": {},
   "outputs": [
    {
     "data": {
      "text/plain": [
       "2"
      ]
     },
     "execution_count": 244,
     "metadata": {},
     "output_type": "execute_result"
    }
   ],
   "source": [
    "maxRibbonBottomup([2, 3, 5], 5)"
   ]
  },
  {
   "cell_type": "code",
   "execution_count": null,
   "metadata": {},
   "outputs": [],
   "source": []
  }
 ],
 "metadata": {
  "kernelspec": {
   "display_name": "Python 3",
   "language": "python",
   "name": "python3"
  },
  "language_info": {
   "codemirror_mode": {
    "name": "ipython",
    "version": 3
   },
   "file_extension": ".py",
   "mimetype": "text/x-python",
   "name": "python",
   "nbconvert_exporter": "python",
   "pygments_lexer": "ipython3",
   "version": "3.7.1"
  },
  "varInspector": {
   "cols": {
    "lenName": 16,
    "lenType": 16,
    "lenVar": 40
   },
   "kernels_config": {
    "python": {
     "delete_cmd_postfix": "",
     "delete_cmd_prefix": "del ",
     "library": "var_list.py",
     "varRefreshCmd": "print(var_dic_list())"
    },
    "r": {
     "delete_cmd_postfix": ") ",
     "delete_cmd_prefix": "rm(",
     "library": "var_list.r",
     "varRefreshCmd": "cat(var_dic_list()) "
    }
   },
   "types_to_exclude": [
    "module",
    "function",
    "builtin_function_or_method",
    "instance",
    "_Feature"
   ],
   "window_display": false
  }
 },
 "nbformat": 4,
 "nbformat_minor": 2
}
