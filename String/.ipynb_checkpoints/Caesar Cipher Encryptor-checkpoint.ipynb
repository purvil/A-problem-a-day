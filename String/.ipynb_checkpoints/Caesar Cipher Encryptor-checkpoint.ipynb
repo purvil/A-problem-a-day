{
 "cells": [
  {
   "cell_type": "code",
   "execution_count": 2,
   "metadata": {},
   "outputs": [],
   "source": [
    "def caesarCipherEncryptor(string, key):\n",
    "    s_lst = list(string)\n",
    "    for i in range(len(s_lst)):\n",
    "        s_lst[i] = getEncryptedChar(s_lst[i], key)\n",
    "    return \"\".join(s_lst)\n",
    "\n",
    "def getEncryptedChar(ch, key):\n",
    "    ascii_val = ord(ch)\n",
    "    return chr((ascii_val + key) % ord('a') % 26 + ord('a'))"
   ]
  },
  {
   "cell_type": "code",
   "execution_count": null,
   "metadata": {},
   "outputs": [],
   "source": []
  }
 ],
 "metadata": {
  "kernelspec": {
   "display_name": "Python 3",
   "language": "python",
   "name": "python3"
  },
  "language_info": {
   "codemirror_mode": {
    "name": "ipython",
    "version": 3
   },
   "file_extension": ".py",
   "mimetype": "text/x-python",
   "name": "python",
   "nbconvert_exporter": "python",
   "pygments_lexer": "ipython3",
   "version": "3.7.1"
  }
 },
 "nbformat": 4,
 "nbformat_minor": 2
}
