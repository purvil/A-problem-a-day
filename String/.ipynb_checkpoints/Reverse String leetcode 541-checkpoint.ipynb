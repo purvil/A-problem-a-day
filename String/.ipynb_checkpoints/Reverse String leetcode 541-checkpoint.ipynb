{
 "cells": [
  {
   "cell_type": "code",
   "execution_count": 2,
   "metadata": {},
   "outputs": [],
   "source": [
    "def reverseStr(s: str, k: int) -> str:\n",
    "    s_lst = list(s)\n",
    "    for i in range(0, len(s), 2*k):\n",
    "        start = i\n",
    "        end = (i + k - 1) if (i + k - 1) < len(s) else len(s) - 1\n",
    "        while start < end:\n",
    "            s_lst[start], s_lst[end] = s_lst[end], s_lst[start]\n",
    "            start += 1\n",
    "            end -= 1\n",
    "    return \"\".join(s_lst)"
   ]
  },
  {
   "cell_type": "code",
   "execution_count": 4,
   "metadata": {},
   "outputs": [
    {
     "data": {
      "text/plain": [
       "'bacdfeg'"
      ]
     },
     "execution_count": 4,
     "metadata": {},
     "output_type": "execute_result"
    }
   ],
   "source": [
    "reverseStr(\"abcdefg\", 2)"
   ]
  }
 ],
 "metadata": {
  "kernelspec": {
   "display_name": "Python 3",
   "language": "python",
   "name": "python3"
  },
  "language_info": {
   "codemirror_mode": {
    "name": "ipython",
    "version": 3
   },
   "file_extension": ".py",
   "mimetype": "text/x-python",
   "name": "python",
   "nbconvert_exporter": "python",
   "pygments_lexer": "ipython3",
   "version": "3.7.1"
  }
 },
 "nbformat": 4,
 "nbformat_minor": 2
}
