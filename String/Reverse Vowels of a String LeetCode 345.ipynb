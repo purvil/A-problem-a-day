{
 "cells": [
  {
   "cell_type": "code",
   "execution_count": 1,
   "metadata": {},
   "outputs": [],
   "source": [
    "def isVowel(ch:str) -> bool:\n",
    "    return True if ch.lower() in \"aeiou\" else False\n",
    "    \n",
    "def reverseVowels(s: str) -> str:\n",
    "    start = 0\n",
    "    end = len(s) - 1\n",
    "    s_lst = list(s)\n",
    "    while start < end:\n",
    "        if not isVowel(s_lst[start]):\n",
    "            start += 1\n",
    "        if not isVowel(s_lst[end]):\n",
    "            end -= 1\n",
    "        if isVowel(s_lst[start]) and isVowel(s_lst[end]):\n",
    "            s_lst[start], s_lst[end] = s_lst[end], s_lst[start]\n",
    "            start += 1\n",
    "            end -= 1\n",
    "    return \"\".join(s_lst)"
   ]
  },
  {
   "cell_type": "code",
   "execution_count": 2,
   "metadata": {},
   "outputs": [
    {
     "data": {
      "text/plain": [
       "'holle'"
      ]
     },
     "execution_count": 2,
     "metadata": {},
     "output_type": "execute_result"
    }
   ],
   "source": [
    "reverseVowels(\"hello\")"
   ]
  }
 ],
 "metadata": {
  "kernelspec": {
   "display_name": "Python 3",
   "language": "python",
   "name": "python3"
  },
  "language_info": {
   "codemirror_mode": {
    "name": "ipython",
    "version": 3
   },
   "file_extension": ".py",
   "mimetype": "text/x-python",
   "name": "python",
   "nbconvert_exporter": "python",
   "pygments_lexer": "ipython3",
   "version": "3.7.1"
  }
 },
 "nbformat": 4,
 "nbformat_minor": 2
}
