{
 "cells": [
  {
   "cell_type": "markdown",
   "metadata": {},
   "source": [
    "### Iterative"
   ]
  },
  {
   "cell_type": "code",
   "execution_count": 2,
   "metadata": {},
   "outputs": [],
   "source": [
    "def reverseList(self, head):\n",
    "    prev, cur = None, head\n",
    "    while cur:\n",
    "        temp = cur.next\n",
    "        cur.next = prev\n",
    "        prev = cur\n",
    "        cur = temp\n",
    "    return prev"
   ]
  },
  {
   "cell_type": "markdown",
   "metadata": {},
   "source": [
    "### Recursive"
   ]
  },
  {
   "cell_type": "code",
   "execution_count": 3,
   "metadata": {},
   "outputs": [],
   "source": [
    "def reverseList(self, head):\n",
    "    if not head or not head.next:\n",
    "        return head\n",
    "    node = self.reverseList(head.next)\n",
    "    head.next.next = head\n",
    "    head.next = None\n",
    "    return node"
   ]
  },
  {
   "cell_type": "markdown",
   "metadata": {},
   "source": [
    "### Reverse Linked list from position m to n"
   ]
  },
  {
   "cell_type": "code",
   "execution_count": 5,
   "metadata": {},
   "outputs": [],
   "source": [
    "def reverseBetween(self, head, m: int, n: int):\n",
    "    counter = 1\n",
    "    cur = head\n",
    "    prev = None\n",
    "        \n",
    "    # Find start position\n",
    "    while cur and counter < m:\n",
    "        prev = cur\n",
    "        cur = cur.next\n",
    "        counter += 1\n",
    "    middle_end = cur\n",
    "    left_end = prev\n",
    "        \n",
    "    # Reverse for next (n - m + 1) nodes\n",
    "    counter = (n - m + 1)\n",
    "    while counter and cur:\n",
    "        temp = cur.next\n",
    "        cur.next = prev\n",
    "        prev = cur \n",
    "        cur = temp\n",
    "        counter -= 1\n",
    "    middle_start = prev\n",
    "    end_start = cur\n",
    "        \n",
    "    # Join all\n",
    "    if left_end: # If reverse from 1st node left_end will be None\n",
    "        left_end.next = middle_start\n",
    "    middle_end.next = end_start\n",
    "        \n",
    "    return middle_start if m == 1 else head # if not"
   ]
  },
  {
   "cell_type": "code",
   "execution_count": null,
   "metadata": {},
   "outputs": [],
   "source": []
  }
 ],
 "metadata": {
  "kernelspec": {
   "display_name": "Python 3",
   "language": "python",
   "name": "python3"
  },
  "language_info": {
   "codemirror_mode": {
    "name": "ipython",
    "version": 3
   },
   "file_extension": ".py",
   "mimetype": "text/x-python",
   "name": "python",
   "nbconvert_exporter": "python",
   "pygments_lexer": "ipython3",
   "version": "3.7.1"
  }
 },
 "nbformat": 4,
 "nbformat_minor": 2
}
