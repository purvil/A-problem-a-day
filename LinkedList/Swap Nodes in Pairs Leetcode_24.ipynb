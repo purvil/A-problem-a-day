{
 "cells": [
  {
   "cell_type": "markdown",
   "metadata": {},
   "source": [
    "### Recursion"
   ]
  },
  {
   "cell_type": "code",
   "execution_count": 3,
   "metadata": {},
   "outputs": [],
   "source": [
    "def swapPairs(head):\n",
    "    if not head or not head.next:\n",
    "        return head\n",
    "        \n",
    "    next_call_node = head.next.next\n",
    "    ans = head.next\n",
    "    head.next.next = head\n",
    "    head.next = swapPairs(next_call_node)        \n",
    "\n",
    "    return ans"
   ]
  },
  {
   "cell_type": "markdown",
   "metadata": {},
   "source": [
    "### Iterative"
   ]
  },
  {
   "cell_type": "code",
   "execution_count": 4,
   "metadata": {},
   "outputs": [],
   "source": [
    "def swapPairs(head):\n",
    "    pre = ListNode(0)\n",
    "    ans = pre\n",
    "    cur = head\n",
    "    while cur and cur.next:\n",
    "        next_node = cur.next.next\n",
    "        pre.next = cur.next\n",
    "        cur.next.next = cur\n",
    "        pre = cur\n",
    "        cur = next_node\n",
    "    pre.next = cur\n",
    "    return ans.next"
   ]
  }
 ],
 "metadata": {
  "kernelspec": {
   "display_name": "Python 3",
   "language": "python",
   "name": "python3"
  },
  "language_info": {
   "codemirror_mode": {
    "name": "ipython",
    "version": 3
   },
   "file_extension": ".py",
   "mimetype": "text/x-python",
   "name": "python",
   "nbconvert_exporter": "python",
   "pygments_lexer": "ipython3",
   "version": "3.7.1"
  }
 },
 "nbformat": 4,
 "nbformat_minor": 2
}
