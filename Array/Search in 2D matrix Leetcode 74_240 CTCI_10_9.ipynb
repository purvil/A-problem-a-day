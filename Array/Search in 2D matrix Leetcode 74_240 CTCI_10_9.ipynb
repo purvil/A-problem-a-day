{
 "cells": [
  {
   "cell_type": "markdown",
   "metadata": {},
   "source": [
    "### Search in sorted matrix (Entire matrix sorted)"
   ]
  },
  {
   "cell_type": "code",
   "execution_count": 3,
   "metadata": {},
   "outputs": [],
   "source": [
    "def searchMatrix(self, matrix, target: int) -> bool:\n",
    "    m = len(matrix)\n",
    "    if m == 0:\n",
    "        return False\n",
    "        \n",
    "    n = len(matrix[0])\n",
    "        \n",
    "    left, right = 0, m * n - 1\n",
    "        \n",
    "    while left <= right:\n",
    "        mid = (left + right) // 2\n",
    "        val = matrix[mid // n][mid % n]\n",
    "            \n",
    "        if target == val:\n",
    "            return True\n",
    "        elif target < val:\n",
    "            right = mid - 1\n",
    "        else:\n",
    "            left = mid + 1\n",
    "\n",
    "            return False"
   ]
  },
  {
   "cell_type": "markdown",
   "metadata": {},
   "source": [
    "O(log(mn)) time and O(1) space"
   ]
  },
  {
   "cell_type": "markdown",
   "metadata": {},
   "source": [
    "### Search in sorted Matrix (Row and col are sorted)"
   ]
  },
  {
   "cell_type": "code",
   "execution_count": null,
   "metadata": {},
   "outputs": [],
   "source": []
  }
 ],
 "metadata": {
  "kernelspec": {
   "display_name": "Python 3",
   "language": "python",
   "name": "python3"
  },
  "language_info": {
   "codemirror_mode": {
    "name": "ipython",
    "version": 3
   },
   "file_extension": ".py",
   "mimetype": "text/x-python",
   "name": "python",
   "nbconvert_exporter": "python",
   "pygments_lexer": "ipython3",
   "version": "3.7.1"
  }
 },
 "nbformat": 4,
 "nbformat_minor": 2
}
