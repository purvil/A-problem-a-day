{
 "cells": [
  {
   "cell_type": "markdown",
   "metadata": {},
   "source": [
    "* Pascal's triangle are a series of numbers arranged in the shape of triangle. In Pascal's triangle, the leftmost and the rightmost numbers of each row are always 1. For the rest, each number is the sum of the two numbers directly above it in the previous row."
   ]
  },
  {
   "cell_type": "markdown",
   "metadata": {},
   "source": [
    "## Print first numRows of rows of pascal triangled"
   ]
  },
  {
   "cell_type": "markdown",
   "metadata": {},
   "source": [
    "### Iterative"
   ]
  },
  {
   "cell_type": "code",
   "execution_count": 2,
   "metadata": {},
   "outputs": [],
   "source": [
    "def generate(numRows: int):\n",
    "    ans = []\n",
    "    for i in range(numRows):\n",
    "        lst = [None for _ in range(i+1)]\n",
    "        lst[0], lst[-1] = 1, 1\n",
    "        for j in range(1, i):\n",
    "            lst[j] = ans[i-1][j-1] + ans[i-1][j]\n",
    "        ans.append(lst)\n",
    "    return ans"
   ]
  },
  {
   "cell_type": "code",
   "execution_count": 3,
   "metadata": {},
   "outputs": [
    {
     "data": {
      "text/plain": [
       "[[1], [1, 1], [1, 2, 1], [1, 3, 3, 1], [1, 4, 6, 4, 1]]"
      ]
     },
     "execution_count": 3,
     "metadata": {},
     "output_type": "execute_result"
    }
   ],
   "source": [
    "generate(5)"
   ]
  },
  {
   "cell_type": "markdown",
   "metadata": {},
   "source": [
    "* O(numRows^2) is time complexity. Actually 1 + 2 + 3 + .. + n so, it is (n)(n+1)/2\n",
    "* O(numRows^2) space complexity"
   ]
  },
  {
   "cell_type": "markdown",
   "metadata": {},
   "source": [
    "## Return nth row of Pascal triangle"
   ]
  },
  {
   "cell_type": "markdown",
   "metadata": {},
   "source": [
    "### Recursive"
   ]
  },
  {
   "cell_type": "code",
   "execution_count": 5,
   "metadata": {},
   "outputs": [],
   "source": [
    "def getRow(self, rowIndex: int):\n",
    "    ans = [1] * (rowIndex + 1)\n",
    "    memo = {}\n",
    "    def helper(row,col, memo):\n",
    "        if row <= 1 or col == 0 or col == row:\n",
    "            return 1\n",
    "        if not (row,col) in memo:\n",
    "            memo[(row,col)] = helper(row - 1, col - 1, memo) + helper(row - 1, col, memo)\n",
    "        return memo[(row,col)]\n",
    "    for i in range(1, len(ans) - 1):\n",
    "        ans[i] = helper(rowIndex, i, memo)\n",
    "    return ans"
   ]
  },
  {
   "cell_type": "markdown",
   "metadata": {},
   "source": [
    "### Iterative"
   ]
  },
  {
   "cell_type": "code",
   "execution_count": 6,
   "metadata": {},
   "outputs": [],
   "source": [
    "def getRow(self, rowIndex: int):\n",
    "    if rowIndex <= 1:\n",
    "        return [1] * (rowIndex + 1)\n",
    "    prev_row = [1, 1]\n",
    "    for i in range(2, rowIndex + 1):\n",
    "        cur_row = [1] * (i+1)\n",
    "        for j in range(1, i):\n",
    "            cur_row[j] = prev_row[j - 1] + prev_row[j]\n",
    "        prev_row = cur_row\n",
    "    return prev_row"
   ]
  },
  {
   "cell_type": "markdown",
   "metadata": {},
   "source": [
    "### SPECIAL CASE"
   ]
  },
  {
   "cell_type": "code",
   "execution_count": 7,
   "metadata": {},
   "outputs": [],
   "source": [
    "def getRow(self, rowIndex: int):\n",
    "    ans = [1] * (rowIndex + 1)\n",
    "    for i in range(rowIndex + 1):\n",
    "        for j in range(i-1, 0, -1):\n",
    "            ans[j] += ans[j-1]\n",
    "    return ans"
   ]
  },
  {
   "cell_type": "code",
   "execution_count": null,
   "metadata": {},
   "outputs": [],
   "source": []
  }
 ],
 "metadata": {
  "kernelspec": {
   "display_name": "Python 3",
   "language": "python",
   "name": "python3"
  },
  "language_info": {
   "codemirror_mode": {
    "name": "ipython",
    "version": 3
   },
   "file_extension": ".py",
   "mimetype": "text/x-python",
   "name": "python",
   "nbconvert_exporter": "python",
   "pygments_lexer": "ipython3",
   "version": "3.7.1"
  }
 },
 "nbformat": 4,
 "nbformat_minor": 2
}
