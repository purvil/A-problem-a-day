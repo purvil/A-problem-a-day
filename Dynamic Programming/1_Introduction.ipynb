{
 "cells": [
  {
   "cell_type": "markdown",
   "metadata": {},
   "source": [
    "* Recursive problems built off of subproblems.\n",
    "* Look for\n",
    "    - Design an algo to compute nth...\n",
    "    - Write code to list first n...\n",
    "    - Implement method to compute all...\n",
    "* Example : We will compute F(n) by adding, removing or changing solution of F(n-1). Or we solve problem on half of the data and then other half, at the end we combine them\n",
    "\n",
    "* Recursive code should have base case- a terminating scenario that does not use recursion to produce an answer.\n",
    "* Set of rules that reduces all the cases towards base case.\n",
    "\n",
    "### Bottom up approach:\n",
    "* We start by knowing how to solve simple case. Then figure out how to solve for 2 elements, then for 3 elements and so on.\n",
    "* Meaning building solution of current case from previous case\n",
    "* Tabulation : Filling up n-D table of all subproblems\n",
    "\n",
    "### Top-down approach\n",
    "* Divide problem in n sub problems\n",
    "* Be careful for overlap cases, use memoization (Storing result of already solved subproblem)\n",
    "* Solve bigger problem by recursively finding solution of subproblems, cache result of subproblem\n",
    "\n",
    "### Half and Half approach\n",
    "* Divide dataset in half\n",
    "* Binary search, merge sort"
   ]
  },
  {
   "cell_type": "markdown",
   "metadata": {},
   "source": [
    "### Recursive vs Iterative\n",
    "* Recursive can be space inefficient, each call adds a new layer to the stack, if algo recurse to depth of n it will take O(N) memory"
   ]
  },
  {
   "cell_type": "markdown",
   "metadata": {},
   "source": [
    "### Dynamic Problem\n",
    "* Recursive problem with overlapping subproblems. Cache those result for future.\n",
    "* Subproblem is smaller version of original problem"
   ]
  },
  {
   "cell_type": "markdown",
   "metadata": {},
   "source": [
    "## Fibonacci number"
   ]
  },
  {
   "cell_type": "markdown",
   "metadata": {},
   "source": [
    "### Recursive brute force"
   ]
  },
  {
   "cell_type": "code",
   "execution_count": 16,
   "metadata": {},
   "outputs": [],
   "source": [
    "def fib_rec(n):\n",
    "    if n < 2:\n",
    "        return n\n",
    "    else:\n",
    "        return fib_rec(n - 1) + fib_rec(n - 2)"
   ]
  },
  {
   "cell_type": "code",
   "execution_count": 17,
   "metadata": {},
   "outputs": [
    {
     "data": {
      "text/plain": [
       "55"
      ]
     },
     "execution_count": 17,
     "metadata": {},
     "output_type": "execute_result"
    }
   ],
   "source": [
    "fib_rec(10)"
   ]
  },
  {
   "cell_type": "markdown",
   "metadata": {},
   "source": [
    "* Running time is $O(2^n)$. Each root has 2 children"
   ]
  },
  {
   "cell_type": "markdown",
   "metadata": {},
   "source": [
    "### Top Down with memoization"
   ]
  },
  {
   "cell_type": "code",
   "execution_count": 18,
   "metadata": {},
   "outputs": [],
   "source": [
    "def feb_top_down(n):\n",
    "    def fibonacci(n, memo):\n",
    "        if n < 2:\n",
    "            return n\n",
    "        elif memo[n] == -1:\n",
    "            memo[n] = fibonacci(n-1, memo) + fibonacci(n-2, memo)\n",
    "        return memo[n]\n",
    "        \n",
    "    memo = [-1] * (n + 1)\n",
    "    return fibonacci(n, memo)"
   ]
  },
  {
   "cell_type": "code",
   "execution_count": 19,
   "metadata": {},
   "outputs": [
    {
     "data": {
      "text/plain": [
       "55"
      ]
     },
     "execution_count": 19,
     "metadata": {},
     "output_type": "execute_result"
    }
   ],
   "source": [
    "feb_top_down(10)"
   ]
  },
  {
   "cell_type": "markdown",
   "metadata": {},
   "source": [
    "* O(n) space and O(n) memory"
   ]
  },
  {
   "cell_type": "markdown",
   "metadata": {},
   "source": [
    "### Bottom up"
   ]
  },
  {
   "cell_type": "code",
   "execution_count": 26,
   "metadata": {},
   "outputs": [],
   "source": [
    "def fib_bottom_up(n):\n",
    "    if n < 2:\n",
    "        return n\n",
    "    memo = [-1] * (n + 1)\n",
    "    memo[0] = 0\n",
    "    memo[1] = 1\n",
    "    for i in range(2, n + 1):\n",
    "        memo[i] = memo[i - 1] + memo[i - 2]\n",
    "    return memo[n]"
   ]
  },
  {
   "cell_type": "code",
   "execution_count": 27,
   "metadata": {},
   "outputs": [
    {
     "data": {
      "text/plain": [
       "55"
      ]
     },
     "execution_count": 27,
     "metadata": {},
     "output_type": "execute_result"
    }
   ],
   "source": [
    "fib_bottom_up(10)"
   ]
  },
  {
   "cell_type": "markdown",
   "metadata": {},
   "source": [
    "* O(n) space and O(n) memory"
   ]
  },
  {
   "cell_type": "markdown",
   "metadata": {},
   "source": [
    "### More effective"
   ]
  },
  {
   "cell_type": "code",
   "execution_count": 28,
   "metadata": {},
   "outputs": [],
   "source": [
    "def fib_best(n):\n",
    "    if n < 2:\n",
    "        return n\n",
    "    a = 0\n",
    "    b = 1\n",
    "    for i in range(2, n + 1):\n",
    "        c = a + b\n",
    "        a = b\n",
    "        b = c\n",
    "    return b"
   ]
  },
  {
   "cell_type": "code",
   "execution_count": 29,
   "metadata": {},
   "outputs": [
    {
     "data": {
      "text/plain": [
       "55"
      ]
     },
     "execution_count": 29,
     "metadata": {},
     "output_type": "execute_result"
    }
   ],
   "source": [
    "fib_best(10)"
   ]
  },
  {
   "cell_type": "markdown",
   "metadata": {},
   "source": [
    "* O(n) space and O(1) memory"
   ]
  },
  {
   "cell_type": "code",
   "execution_count": null,
   "metadata": {},
   "outputs": [],
   "source": []
  }
 ],
 "metadata": {
  "kernelspec": {
   "display_name": "Python 3",
   "language": "python",
   "name": "python3"
  },
  "language_info": {
   "codemirror_mode": {
    "name": "ipython",
    "version": 3
   },
   "file_extension": ".py",
   "mimetype": "text/x-python",
   "name": "python",
   "nbconvert_exporter": "python",
   "pygments_lexer": "ipython3",
   "version": "3.7.1"
  }
 },
 "nbformat": 4,
 "nbformat_minor": 2
}
