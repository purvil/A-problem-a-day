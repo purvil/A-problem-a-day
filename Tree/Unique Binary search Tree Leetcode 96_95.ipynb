{
 "cells": [
  {
   "cell_type": "markdown",
   "metadata": {},
   "source": [
    "* Given n, how many structurally unique BST's (binary search trees) that store values 1 ... n?"
   ]
  },
  {
   "cell_type": "code",
   "execution_count": null,
   "metadata": {},
   "outputs": [],
   "source": []
  },
  {
   "cell_type": "markdown",
   "metadata": {},
   "source": [
    "* Given n, return structurally unique BST's (binary search trees) that store values 1 ... n?"
   ]
  },
  {
   "cell_type": "code",
   "execution_count": 4,
   "metadata": {},
   "outputs": [],
   "source": [
    "def generateTrees(self, n: int):\n",
    "    memo = {}\n",
    "    def helper(start, end):\n",
    "        if start > end:\n",
    "            return [None,]\n",
    "        all_tree = []\n",
    "        for i in range(start , end + 1):\n",
    "            if (start , i - 1) not in memo:\n",
    "                memo[(start, i - 1)] = helper(start, i - 1)\n",
    "            if (i + 1, end) not in memo:\n",
    "                memo[(i + 1, end)] = helper(i + 1, end)\n",
    "            left_trees = memo[(start , i - 1)]\n",
    "            right_trees = memo[(i + 1,end)]\n",
    "            for l in left_trees:\n",
    "                for r in right_trees:\n",
    "                    current_tree = TreeNode(i)\n",
    "                    current_tree.left = l\n",
    "                    current_tree.right = r\n",
    "                    all_tree.append(current_tree)\n",
    "        return all_tree\n",
    "    return helper(1, n) if n else []"
   ]
  },
  {
   "cell_type": "code",
   "execution_count": null,
   "metadata": {},
   "outputs": [],
   "source": []
  }
 ],
 "metadata": {
  "kernelspec": {
   "display_name": "Python 3",
   "language": "python",
   "name": "python3"
  },
  "language_info": {
   "codemirror_mode": {
    "name": "ipython",
    "version": 3
   },
   "file_extension": ".py",
   "mimetype": "text/x-python",
   "name": "python",
   "nbconvert_exporter": "python",
   "pygments_lexer": "ipython3",
   "version": "3.7.1"
  }
 },
 "nbformat": 4,
 "nbformat_minor": 2
}
