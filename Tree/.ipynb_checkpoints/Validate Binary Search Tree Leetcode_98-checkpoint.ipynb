{
 "cells": [
  {
   "cell_type": "markdown",
   "metadata": {},
   "source": [
    "### Recursive"
   ]
  },
  {
   "cell_type": "code",
   "execution_count": 3,
   "metadata": {},
   "outputs": [],
   "source": [
    "def isValidBST(self, root) -> bool:\n",
    "    def helper(node, lower = float('-inf'), upper = float('inf')):\n",
    "        if not node:\n",
    "            return True\n",
    "        val = node.val\n",
    "            \n",
    "        if val <= lower or val >= upper:\n",
    "            return False\n",
    "        if not helper(node.left, lower, val):\n",
    "            return False\n",
    "        if not helper(node.right, val, upper):\n",
    "            return False\n",
    "        return True        \n",
    "    return helper(root)"
   ]
  },
  {
   "cell_type": "markdown",
   "metadata": {},
   "source": [
    "O(N) is time and O(d) memory d = longest depth of tree"
   ]
  },
  {
   "cell_type": "markdown",
   "metadata": {},
   "source": [
    "### Iterative"
   ]
  },
  {
   "cell_type": "code",
   "execution_count": 4,
   "metadata": {},
   "outputs": [],
   "source": [
    "def isValidBST(self, root) -> bool:\n",
    "    if not root:\n",
    "        return True\n",
    "    stack = [(root, float('-inf'), float('inf')), ]\n",
    "    while stack:\n",
    "        node, lower, upper = stack.pop()\n",
    "        if not node:\n",
    "            continue\n",
    "        if node.val <= lower or node.val >= upper:\n",
    "            return False\n",
    "        stack.append((node.left, lower, node.val))\n",
    "        stack.append((node.right, node.val, upper))\n",
    "    return True"
   ]
  },
  {
   "cell_type": "markdown",
   "metadata": {},
   "source": [
    "### InOrder"
   ]
  },
  {
   "cell_type": "code",
   "execution_count": 6,
   "metadata": {},
   "outputs": [],
   "source": [
    "def isValidBST(self, root) -> bool:\n",
    "    if not root:\n",
    "        return True\n",
    "    stack, inOrder = [], float('-inf')\n",
    "        \n",
    "    while stack or root:\n",
    "        while root:\n",
    "            stack.append(root)\n",
    "            root = root.left\n",
    "        root = stack.pop()\n",
    "        if root.val <= inOrder:\n",
    "            return False\n",
    "        inOrder = root.val\n",
    "        root = root.right\n",
    "            \n",
    "    return True"
   ]
  },
  {
   "cell_type": "code",
   "execution_count": null,
   "metadata": {},
   "outputs": [],
   "source": []
  }
 ],
 "metadata": {
  "kernelspec": {
   "display_name": "Python 3",
   "language": "python",
   "name": "python3"
  },
  "language_info": {
   "codemirror_mode": {
    "name": "ipython",
    "version": 3
   },
   "file_extension": ".py",
   "mimetype": "text/x-python",
   "name": "python",
   "nbconvert_exporter": "python",
   "pygments_lexer": "ipython3",
   "version": "3.7.1"
  }
 },
 "nbformat": 4,
 "nbformat_minor": 2
}
