{
 "cells": [
  {
   "cell_type": "code",
   "execution_count": 1,
   "metadata": {},
   "outputs": [],
   "source": [
    "def findClosestValueInBst(tree, target):\n",
    "    # Write your code here.\n",
    "    cur = tree\n",
    "    possible_ans = tree.value\n",
    "    while cur:\n",
    "        if cur.value == target:\n",
    "            return cur.value\n",
    "\n",
    "        if abs(cur.value - target) < abs(possible_ans - target):\n",
    "            possible_ans = cur.value \n",
    "        cur = cur.left if cur.value > target else cur.right\n",
    "    return possible_ans"
   ]
  },
  {
   "cell_type": "code",
   "execution_count": null,
   "metadata": {},
   "outputs": [],
   "source": []
  }
 ],
 "metadata": {
  "kernelspec": {
   "display_name": "Python 3",
   "language": "python",
   "name": "python3"
  },
  "language_info": {
   "codemirror_mode": {
    "name": "ipython",
    "version": 3
   },
   "file_extension": ".py",
   "mimetype": "text/x-python",
   "name": "python",
   "nbconvert_exporter": "python",
   "pygments_lexer": "ipython3",
   "version": "3.7.1"
  }
 },
 "nbformat": 4,
 "nbformat_minor": 2
}
