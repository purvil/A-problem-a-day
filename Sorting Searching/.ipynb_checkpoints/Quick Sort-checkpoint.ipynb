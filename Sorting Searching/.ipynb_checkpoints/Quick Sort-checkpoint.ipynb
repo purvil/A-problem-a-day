{
 "cells": [
  {
   "cell_type": "markdown",
   "metadata": {},
   "source": [
    "![](images/quick_sort.PNG)"
   ]
  },
  {
   "cell_type": "code",
   "execution_count": 1,
   "metadata": {},
   "outputs": [],
   "source": [
    "def quickSort(array):\n",
    "    quickHelper(array, 0, len(array) - 1)\n",
    "    return array\n",
    "def quickHelper(lst, start, end):\n",
    "    if start >= end:\n",
    "        return\n",
    "    pivot_idx = start\n",
    "    left = start + 1\n",
    "    right = end\n",
    "\n",
    "    while left <= right:\n",
    "        if lst[left] > lst[pivot_idx] and lst[right] < lst[pivot_idx]:\n",
    "            lst[left], lst[right] = lst[right], lst[left]\n",
    "        if lst[left] <= lst[pivot_idx]:\n",
    "            left += 1\n",
    "        if lst[right] >= lst[pivot_idx]:\n",
    "            right -= 1\n",
    "        \n",
    "    lst[pivot_idx], lst[right] = lst[right], lst[pivot_idx]\n",
    "    isLeftSmaller = (right - 1) - start < end - (right + 1)\n",
    "    \n",
    "    if isLeftSmaller:\n",
    "        quickHelper(lst, start, right - 1)\n",
    "        quickHelper(lst, right + 1, end)\n",
    "    else:\n",
    "        quickHelper(lst, right + 1, end)\n",
    "        quickHelper(lst, start, right - 1)"
   ]
  },
  {
   "cell_type": "code",
   "execution_count": null,
   "metadata": {},
   "outputs": [],
   "source": []
  }
 ],
 "metadata": {
  "kernelspec": {
   "display_name": "Python 3",
   "language": "python",
   "name": "python3"
  },
  "language_info": {
   "codemirror_mode": {
    "name": "ipython",
    "version": 3
   },
   "file_extension": ".py",
   "mimetype": "text/x-python",
   "name": "python",
   "nbconvert_exporter": "python",
   "pygments_lexer": "ipython3",
   "version": "3.7.1"
  }
 },
 "nbformat": 4,
 "nbformat_minor": 2
}
