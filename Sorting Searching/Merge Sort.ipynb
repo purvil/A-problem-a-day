{
 "cells": [
  {
   "cell_type": "markdown",
   "metadata": {},
   "source": [
    "1. Divide unsorted list into several sublists\n",
    "2. Sort each of the sublist recursively\n",
    "3. Merge the sorted sublists to produce new sorted list"
   ]
  },
  {
   "cell_type": "markdown",
   "metadata": {},
   "source": [
    "![](images/merge_sort.PNG)"
   ]
  },
  {
   "cell_type": "code",
   "execution_count": 4,
   "metadata": {},
   "outputs": [],
   "source": [
    "def sortArray(self, nums):\n",
    "    def divide(start, end, lst, aux):\n",
    "        if start >= end:\n",
    "            return\n",
    "            \n",
    "        middle_idx = (start + end) // 2\n",
    "        divide(start, middle_idx, aux, lst)\n",
    "        divide(middle_idx + 1, end, aux, lst)\n",
    "            \n",
    "        merge(start, middle_idx, end, lst, aux)\n",
    "        \n",
    "    def merge(start, middle_idx, end, lst, aux):\n",
    "        idx = start\n",
    "        left = start\n",
    "        right = middle_idx + 1\n",
    "            \n",
    "        while left <= middle_idx and right <= end:\n",
    "            if aux[left] <= aux[right]:\n",
    "                lst[idx] = aux[left]\n",
    "                left += 1\n",
    "            else:\n",
    "                lst[idx] = aux[right]\n",
    "                right += 1\n",
    "            idx += 1\n",
    "        while left <= middle_idx:\n",
    "            lst[idx] = aux[left]\n",
    "            left += 1\n",
    "            idx += 1\n",
    "        while right <= end:\n",
    "            lst[idx] = aux[right]\n",
    "            right += 1\n",
    "            idx += 1\n",
    "        \n",
    "    aux = nums[:]\n",
    "    divide(0, len(nums) - 1, nums, aux)\n",
    "    return nums"
   ]
  },
  {
   "cell_type": "code",
   "execution_count": null,
   "metadata": {},
   "outputs": [],
   "source": []
  }
 ],
 "metadata": {
  "kernelspec": {
   "display_name": "Python 3",
   "language": "python",
   "name": "python3"
  },
  "language_info": {
   "codemirror_mode": {
    "name": "ipython",
    "version": 3
   },
   "file_extension": ".py",
   "mimetype": "text/x-python",
   "name": "python",
   "nbconvert_exporter": "python",
   "pygments_lexer": "ipython3",
   "version": "3.7.1"
  }
 },
 "nbformat": 4,
 "nbformat_minor": 2
}
